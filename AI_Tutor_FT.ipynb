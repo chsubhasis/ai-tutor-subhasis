{
 "cells": [
  {
   "cell_type": "markdown",
   "metadata": {},
   "source": [
    "### Fine tuning gpt-4o-mini for AI Tuotor creation"
   ]
  },
  {
   "cell_type": "code",
   "execution_count": null,
   "metadata": {
    "id": "kBX22xX6_nUQ"
   },
   "outputs": [],
   "source": [
    "!pip -q install langchain-core\n",
    "!pip -q install langchain-community\n",
    "!pip -q install langchain_huggingface\n",
    "!pip -q install langchain_chroma\n",
    "!pip -q install PyPDF2\n",
    "!pip -q install transformers\n",
    "!pip -q install datasets\n",
    "!pip -q install -U accelerate bitsandbytes peft trl"
   ]
  },
  {
   "cell_type": "code",
   "execution_count": null,
   "metadata": {},
   "outputs": [],
   "source": [
    "!pip -q install jsonlines"
   ]
  },
  {
   "cell_type": "code",
   "execution_count": null,
   "metadata": {
    "colab": {
     "base_uri": "https://localhost:8080/"
    },
    "id": "1v2pP-aYfako",
    "outputId": "06338f33-b866-4ab0-dabc-8e90c35028d2"
   },
   "outputs": [
    {
     "name": "stdout",
     "output_type": "stream",
     "text": [
      "Requirement already satisfied: tiktoken in /usr/local/lib/python3.10/dist-packages (0.8.0)\n",
      "Requirement already satisfied: regex>=2022.1.18 in /usr/local/lib/python3.10/dist-packages (from tiktoken) (2024.9.11)\n",
      "Requirement already satisfied: requests>=2.26.0 in /usr/local/lib/python3.10/dist-packages (from tiktoken) (2.32.3)\n",
      "Requirement already satisfied: charset-normalizer<4,>=2 in /usr/local/lib/python3.10/dist-packages (from requests>=2.26.0->tiktoken) (3.4.0)\n",
      "Requirement already satisfied: idna<4,>=2.5 in /usr/local/lib/python3.10/dist-packages (from requests>=2.26.0->tiktoken) (3.10)\n",
      "Requirement already satisfied: urllib3<3,>=1.21.1 in /usr/local/lib/python3.10/dist-packages (from requests>=2.26.0->tiktoken) (2.2.3)\n",
      "Requirement already satisfied: certifi>=2017.4.17 in /usr/local/lib/python3.10/dist-packages (from requests>=2.26.0->tiktoken) (2024.8.30)\n"
     ]
    }
   ],
   "source": [
    "!pip install tiktoken"
   ]
  },
  {
   "cell_type": "code",
   "execution_count": null,
   "metadata": {
    "colab": {
     "base_uri": "https://localhost:8080/"
    },
    "id": "IaGBbgN8biYV",
    "outputId": "bd41fdd3-77a9-4855-8e0a-60ea58e60dcb"
   },
   "outputs": [
    {
     "name": "stdout",
     "output_type": "stream",
     "text": [
      "Enter you HuggingFace access token:··········\n"
     ]
    }
   ],
   "source": [
    "# Authentication for Huggingface API\n",
    "\n",
    "import os\n",
    "from getpass import getpass\n",
    "\n",
    "hfapi_key = getpass(\"Enter you HuggingFace access token:\")\n",
    "os.environ[\"HF_TOKEN\"] = hfapi_key\n",
    "os.environ[\"HUGGINGFACEHUB_API_TOKEN\"] = hfapi_key"
   ]
  },
  {
   "cell_type": "code",
   "execution_count": null,
   "metadata": {
    "id": "9B6d6EfDfla2"
   },
   "outputs": [],
   "source": [
    "from collections import defaultdict\n",
    "format_errors = defaultdict(int)\n",
    "\n",
    "def validate_dataset(output_data):\n",
    "\n",
    "  for ex in output_data:\n",
    "      if not isinstance(ex, dict):\n",
    "          format_errors[\"data_type\"] += 1\n",
    "          continue\n",
    "\n",
    "      messages = ex.get(\"messages\", None)\n",
    "      if not messages:\n",
    "          format_errors[\"missing_messages_list\"] += 1\n",
    "          continue\n",
    "\n",
    "      for message in messages:\n",
    "          if \"role\" not in message or \"content\" not in message:\n",
    "              format_errors[\"message_missing_key\"] += 1\n",
    "\n",
    "          if any(k not in (\"role\", \"content\", \"name\", \"function_call\", \"weight\") for k in message):\n",
    "              format_errors[\"message_unrecognized_key\"] += 1\n",
    "\n",
    "          if message.get(\"role\", None) not in (\"system\", \"user\", \"assistant\", \"function\"):\n",
    "              format_errors[\"unrecognized_role\"] += 1\n",
    "\n",
    "          content = message.get(\"content\", None)\n",
    "          function_call = message.get(\"function_call\", None)\n",
    "\n",
    "          if (not content and not function_call) or not isinstance(content, str):\n",
    "              format_errors[\"missing_content\"] += 1\n",
    "\n",
    "      if not any(message.get(\"role\", None) == \"assistant\" for message in messages):\n",
    "          format_errors[\"example_missing_assistant_message\"] += 1\n",
    "\n",
    "  if format_errors:\n",
    "      print(\"Found errors:\")\n",
    "      for k, v in format_errors.items():\n",
    "          print(f\"{k}: {v}\")\n",
    "  else:\n",
    "      print(\"\\nNo errors found in the Formatted dataset \\n\")"
   ]
  },
  {
   "cell_type": "code",
   "execution_count": null,
   "metadata": {
    "id": "eJmjP8lHfMpr"
   },
   "outputs": [],
   "source": [
    "import tiktoken\n",
    "\n",
    "def counting_no_tokens(output_data):\n",
    "  tokenizer = tiktoken.encoding_for_model(\"gpt-4o-mini\")\n",
    "  total_tokens = sum(len(tokenizer.encode(\" \".join(message['content'] for message in entry['messages']))) for entry in output_data)\n",
    "  print(f\"Total number of tokens in the Dataset: {total_tokens} \\n\")"
   ]
  },
  {
   "cell_type": "code",
   "execution_count": null,
   "metadata": {
    "id": "wC-u1Q8nd711"
   },
   "outputs": [],
   "source": [
    "from huggingface_hub import hf_hub_download\n",
    "import json\n",
    "import jsonlines\n",
    "from pprint import pprint\n",
    "\n",
    "def dataset_preparation(file_name):\n",
    "    file_path = hf_hub_download(\n",
    "        repo_id=\"jaiganesan/GPT_4o_mini_Fine_tune\",\n",
    "        filename=file_name,\n",
    "        repo_type=\"dataset\",\n",
    "        local_dir=\"/content\"\n",
    "    )\n",
    "\n",
    "    with open(file_path, \"r\") as file:\n",
    "        data = [json.loads(line) for line in file]\n",
    "\n",
    "    print(\"Total entries in the dataset:\", len(data))\n",
    "    print(\"-_\"*30)\n",
    "    print(data[4])\n",
    "\n",
    "    output_data = []\n",
    "\n",
    "    for entry in data:\n",
    "        formatted_entry = {\n",
    "            \"messages\": [\n",
    "                {\"role\": \"system\", \"content\": \"As AI Tutor, answer questions related to AI topics in an in-depth and factual manner.\"},\n",
    "                {\"role\": \"user\", \"content\": entry['question']},\n",
    "                {\"role\": \"assistant\", \"content\": entry['answer']}\n",
    "            ]\n",
    "        }\n",
    "        output_data.append(formatted_entry)\n",
    "\n",
    "    # Validate and analyze the output data\n",
    "    validate_dataset(output_data)\n",
    "    counting_no_tokens(output_data)\n",
    "\n",
    "    print(\"-_\"*30)\n",
    "    print(output_data[4])\n",
    "\n",
    "    base_file_name = os.path.splitext(file_name)[0]\n",
    "    output_file_path = f'formatted_{base_file_name}.jsonl'\n",
    "\n",
    "    with jsonlines.open(output_file_path, mode='w') as writer:\n",
    "        writer.write_all(output_data)\n",
    "\n",
    "    print(f\"\\nFormatted dataset has been saved to {output_file_path}.\")"
   ]
  },
  {
   "cell_type": "code",
   "execution_count": null,
   "metadata": {
    "colab": {
     "base_uri": "https://localhost:8080/"
    },
    "id": "41skTS2gd7y-",
    "outputId": "731156c6-f63b-4713-fb99-78e8f757e82c"
   },
   "outputs": [
    {
     "name": "stderr",
     "output_type": "stream",
     "text": [
      "/usr/local/lib/python3.10/dist-packages/huggingface_hub/utils/_auth.py:94: UserWarning: \n",
      "The secret `HF_TOKEN` does not exist in your Colab secrets.\n",
      "To authenticate with the Hugging Face Hub, create a token in your settings tab (https://huggingface.co/settings/tokens), set it as secret in your Google Colab and restart your session.\n",
      "You will be able to reuse this secret in all of your notebooks.\n",
      "Please note that authentication is recommended but still optional to access public models or datasets.\n",
      "  warnings.warn(\n"
     ]
    },
    {
     "name": "stdout",
     "output_type": "stream",
     "text": [
      "Total entries in the dataset: 100\n",
      "-_-_-_-_-_-_-_-_-_-_-_-_-_-_-_-_-_-_-_-_-_-_-_-_-_-_-_-_-_-_\n",
      "{'source': 'tai_blog', 'question': 'What are the key advantages of using BiFPN in object detection compared to conventional methods?', 'answer': \"BiFPN, or Bi-directional Feature Pyramid Network, offers several advantages in object detection when compared to conventional methods. It's part of the EfficientDet family of object detectors developed by Google Research and is designed to enhance the efficiency and scalability of object detection models.\\n\\n### Key Advantages of BiFPN:\\n\\n1. **Weighted Feature Fusion:**\\n   Unlike conventional methods that simply sum up input features during feature fusion, BiFPN introduces learnable weights to adjust the importance of different input features. This means that during multi-scale fusion, input features are not merely combined indiscriminately but are weighted according to their relevance, which enhances the accuracy of the fusion process.\\n\\n2. **Bidirectional Information Flow:**\\n   Traditional Feature Pyramid Networks (FPN) typically allow one-way information flow, either bottom-up or top-down. BiFPN, however, combines these approaches by introducing a bi-directional path that incorporates both bottom-up and top-down pathways. This design maximizes the use of high-level and low-level features for better object detection across scales.\\n\\n3. **Efficiency and Scalable Design:**\\n   By incorporating compound scaling and EfficientNet as the backbone, BiFPN allows for efficient scaling up of network dimensions such as depth, width, and resolution. This results in better accuracy with significantly fewer parameters and reduced computation needs (FLOPS) in comparison to previous state-of-the-art detectors.\\n\\n### Comparison with Conventional Methods:\\n\\n- **Conventional Methods:** Traditional object detection methods such as Faster R-CNN, SSD, and YOLO have their own strengths and limitations. For instance, Faster R-CNN is known for its high accuracy but at the cost of speed due to its region proposal network. YOLO, on the other hand, is faster but may struggle with detecting smaller objects due to its single shot approach. Each method applies different strategies, including layered CNNs, feature fusion, and multi-stage processing, but might not handle multi-scale features as effectively as BiFPN.\\n\\n- **Performance:** BiFPN outperforms traditional methods by effectively utilizing available computation resources with a simplified yet potent architecture, allowing real-time uses in applications requiring high precision with a smaller model footprint.\\n\\nIn summary, BiFPN's ability to fuse features more intelligently and its bi-directional design make it a superior choice in scenarios demanding high computational efficiency and scalability, like mobile applications or real-time systems.\\n\\nIf you have deeper questions about any specific aspect of BiFPN or related technologies, feel free to ask!\"}\n",
      "\n",
      "No errors found in the Formatted dataset \n",
      "\n",
      "Total number of tokens in the Dataset: 50425 \n",
      "\n",
      "-_-_-_-_-_-_-_-_-_-_-_-_-_-_-_-_-_-_-_-_-_-_-_-_-_-_-_-_-_-_\n",
      "{'messages': [{'role': 'system', 'content': 'As AI Tutor, answer questions related to AI topics in an in-depth and factual manner.'}, {'role': 'user', 'content': 'What are the key advantages of using BiFPN in object detection compared to conventional methods?'}, {'role': 'assistant', 'content': \"BiFPN, or Bi-directional Feature Pyramid Network, offers several advantages in object detection when compared to conventional methods. It's part of the EfficientDet family of object detectors developed by Google Research and is designed to enhance the efficiency and scalability of object detection models.\\n\\n### Key Advantages of BiFPN:\\n\\n1. **Weighted Feature Fusion:**\\n   Unlike conventional methods that simply sum up input features during feature fusion, BiFPN introduces learnable weights to adjust the importance of different input features. This means that during multi-scale fusion, input features are not merely combined indiscriminately but are weighted according to their relevance, which enhances the accuracy of the fusion process.\\n\\n2. **Bidirectional Information Flow:**\\n   Traditional Feature Pyramid Networks (FPN) typically allow one-way information flow, either bottom-up or top-down. BiFPN, however, combines these approaches by introducing a bi-directional path that incorporates both bottom-up and top-down pathways. This design maximizes the use of high-level and low-level features for better object detection across scales.\\n\\n3. **Efficiency and Scalable Design:**\\n   By incorporating compound scaling and EfficientNet as the backbone, BiFPN allows for efficient scaling up of network dimensions such as depth, width, and resolution. This results in better accuracy with significantly fewer parameters and reduced computation needs (FLOPS) in comparison to previous state-of-the-art detectors.\\n\\n### Comparison with Conventional Methods:\\n\\n- **Conventional Methods:** Traditional object detection methods such as Faster R-CNN, SSD, and YOLO have their own strengths and limitations. For instance, Faster R-CNN is known for its high accuracy but at the cost of speed due to its region proposal network. YOLO, on the other hand, is faster but may struggle with detecting smaller objects due to its single shot approach. Each method applies different strategies, including layered CNNs, feature fusion, and multi-stage processing, but might not handle multi-scale features as effectively as BiFPN.\\n\\n- **Performance:** BiFPN outperforms traditional methods by effectively utilizing available computation resources with a simplified yet potent architecture, allowing real-time uses in applications requiring high precision with a smaller model footprint.\\n\\nIn summary, BiFPN's ability to fuse features more intelligently and its bi-directional design make it a superior choice in scenarios demanding high computational efficiency and scalability, like mobile applications or real-time systems.\\n\\nIf you have deeper questions about any specific aspect of BiFPN or related technologies, feel free to ask!\"}]}\n",
      "\n",
      "Formatted dataset has been saved to formatted_question_answers_data_100.jsonl.\n"
     ]
    }
   ],
   "source": [
    "# Training Dataset\n",
    "dataset_preparation(\"question_answers_data_100.jsonl\")"
   ]
  },
  {
   "cell_type": "code",
   "execution_count": null,
   "metadata": {
    "colab": {
     "base_uri": "https://localhost:8080/"
    },
    "id": "Yhr-1dP_fzMd",
    "outputId": "0e62920f-2077-4be3-eb50-4a68f28f57cb"
   },
   "outputs": [
    {
     "name": "stdout",
     "output_type": "stream",
     "text": [
      "Total entries in the dataset: 30\n",
      "-_-_-_-_-_-_-_-_-_-_-_-_-_-_-_-_-_-_-_-_-_-_-_-_-_-_-_-_-_-_\n",
      "{'source': 'openai_cookbooks', 'question': 'How can creating high-quality evaluations for large language models like GPT-4 improve the stability and reliability of AI applications?', 'answer': \"Creating high-quality evaluations for large language models (LLMs), like GPT-4, significantly enhances the stability and reliability of AI applications. Evaluations serve as a robust mechanism to monitor and assess how well these models perform across various scenarios, ultimately leading to improvements in model robustness and reliability.\\n\\nFirstly, high-quality evaluations can help identify and address areas where models may be underperforming. For instance, systematic evaluations can uncover issues such as drifting performance or deteriorating accuracy over time. By regularly evaluating LLMs against a comprehensive set of benchmarks, developers can detect and correct potential degradation in model performance, as seen with concerns over GPT-4's variations in specific tasks and formatting errors.\\n\\nMoreover, evaluations allow developers to monitor model performance in real-world applications and compare them against alternative solutions. For example, tools like LangSmith enable post-deployment monitoring of LLMs, offering functions to analyze and track model outputs, accuracy, and engagement over time. Such continuous assessment ensures models maintain an acceptable level of performance and reliability and facilitates swift intervention if issues arise.\\n\\nAdditionally, evaluations can assist in optimizing specific applications by providing insights into how models respond to different inputs and contexts. By leveraging structured testing frameworks like those designed to evaluate multi-round conversations or coding tasks, developers can fine-tune models to meet specific application needs better. This iterative process of evaluation and refinement helps in aligning model outputs with desired outcomes more effectively.\\n\\nUltimately, thorough evaluations contribute to the development of LLMs that are more consistent and reliable, thereby offering stability to applications relying on these models. By providing frameworks to continuously test and improve models, developers can ensure higher performance standards, thus enhancing the trustworthiness of AI solutions deployed in various industries.\\n\\nFeel free to ask more questions if you wish to explore any particular aspects further!\"}\n",
      "\n",
      "No errors found in the Formatted dataset \n",
      "\n",
      "Total number of tokens in the Dataset: 14811 \n",
      "\n",
      "-_-_-_-_-_-_-_-_-_-_-_-_-_-_-_-_-_-_-_-_-_-_-_-_-_-_-_-_-_-_\n",
      "{'messages': [{'role': 'system', 'content': 'As AI Tutor, answer questions related to AI topics in an in-depth and factual manner.'}, {'role': 'user', 'content': 'How can creating high-quality evaluations for large language models like GPT-4 improve the stability and reliability of AI applications?'}, {'role': 'assistant', 'content': \"Creating high-quality evaluations for large language models (LLMs), like GPT-4, significantly enhances the stability and reliability of AI applications. Evaluations serve as a robust mechanism to monitor and assess how well these models perform across various scenarios, ultimately leading to improvements in model robustness and reliability.\\n\\nFirstly, high-quality evaluations can help identify and address areas where models may be underperforming. For instance, systematic evaluations can uncover issues such as drifting performance or deteriorating accuracy over time. By regularly evaluating LLMs against a comprehensive set of benchmarks, developers can detect and correct potential degradation in model performance, as seen with concerns over GPT-4's variations in specific tasks and formatting errors.\\n\\nMoreover, evaluations allow developers to monitor model performance in real-world applications and compare them against alternative solutions. For example, tools like LangSmith enable post-deployment monitoring of LLMs, offering functions to analyze and track model outputs, accuracy, and engagement over time. Such continuous assessment ensures models maintain an acceptable level of performance and reliability and facilitates swift intervention if issues arise.\\n\\nAdditionally, evaluations can assist in optimizing specific applications by providing insights into how models respond to different inputs and contexts. By leveraging structured testing frameworks like those designed to evaluate multi-round conversations or coding tasks, developers can fine-tune models to meet specific application needs better. This iterative process of evaluation and refinement helps in aligning model outputs with desired outcomes more effectively.\\n\\nUltimately, thorough evaluations contribute to the development of LLMs that are more consistent and reliable, thereby offering stability to applications relying on these models. By providing frameworks to continuously test and improve models, developers can ensure higher performance standards, thus enhancing the trustworthiness of AI solutions deployed in various industries.\\n\\nFeel free to ask more questions if you wish to explore any particular aspects further!\"}]}\n",
      "\n",
      "Formatted dataset has been saved to formatted_question_answers_data_30.jsonl.\n"
     ]
    }
   ],
   "source": [
    "# Evaluation Dataset\n",
    "dataset_preparation(\"question_answers_data_30.jsonl\")"
   ]
  },
  {
   "cell_type": "code",
   "execution_count": null,
   "metadata": {
    "id": "eOyLR23ld7uU"
   },
   "outputs": [],
   "source": [
    "from transformers import GPT2Tokenizer, GPT2LMHeadModel\n",
    "\n",
    "checkpoint = \"openai-community/gpt2\"\n",
    "\n",
    "tokenizer = GPT2Tokenizer.from_pretrained(checkpoint)\n",
    "# set pad_token_id to unk_token_id\n",
    "tokenizer.pad_token = tokenizer.unk_token\n",
    "\n",
    "model = GPT2LMHeadModel.from_pretrained(checkpoint)"
   ]
  },
  {
   "cell_type": "code",
   "execution_count": null,
   "metadata": {
    "colab": {
     "base_uri": "https://localhost:8080/"
    },
    "id": "6ZOJowH_d7r3",
    "outputId": "03c235e9-222d-4450-b35c-84bbc56420b4"
   },
   "outputs": [
    {
     "data": {
      "text/plain": [
       "GPT2LMHeadModel(\n",
       "  (transformer): GPT2Model(\n",
       "    (wte): Embedding(50257, 768)\n",
       "    (wpe): Embedding(1024, 768)\n",
       "    (drop): Dropout(p=0.1, inplace=False)\n",
       "    (h): ModuleList(\n",
       "      (0-11): 12 x GPT2Block(\n",
       "        (ln_1): LayerNorm((768,), eps=1e-05, elementwise_affine=True)\n",
       "        (attn): GPT2SdpaAttention(\n",
       "          (c_attn): Conv1D(nf=2304, nx=768)\n",
       "          (c_proj): Conv1D(nf=768, nx=768)\n",
       "          (attn_dropout): Dropout(p=0.1, inplace=False)\n",
       "          (resid_dropout): Dropout(p=0.1, inplace=False)\n",
       "        )\n",
       "        (ln_2): LayerNorm((768,), eps=1e-05, elementwise_affine=True)\n",
       "        (mlp): GPT2MLP(\n",
       "          (c_fc): Conv1D(nf=3072, nx=768)\n",
       "          (c_proj): Conv1D(nf=768, nx=3072)\n",
       "          (act): NewGELUActivation()\n",
       "          (dropout): Dropout(p=0.1, inplace=False)\n",
       "        )\n",
       "      )\n",
       "    )\n",
       "    (ln_f): LayerNorm((768,), eps=1e-05, elementwise_affine=True)\n",
       "  )\n",
       "  (lm_head): Linear(in_features=768, out_features=50257, bias=False)\n",
       ")"
      ]
     },
     "execution_count": 11,
     "metadata": {},
     "output_type": "execute_result"
    }
   ],
   "source": [
    "model"
   ]
  },
  {
   "cell_type": "code",
   "execution_count": null,
   "metadata": {
    "colab": {
     "base_uri": "https://localhost:8080/"
    },
    "id": "Z-90wHz5d7pk",
    "outputId": "430a3b3d-3b19-4d8c-89ba-d59ae846a4ab"
   },
   "outputs": [
    {
     "data": {
      "text/plain": [
       "GPT2Tokenizer(name_or_path='openai-community/gpt2', vocab_size=50257, model_max_length=1024, is_fast=False, padding_side='right', truncation_side='right', special_tokens={'bos_token': '<|endoftext|>', 'eos_token': '<|endoftext|>', 'unk_token': '<|endoftext|>', 'pad_token': '<|endoftext|>'}, clean_up_tokenization_spaces=False),  added_tokens_decoder={\n",
       "\t50256: AddedToken(\"<|endoftext|>\", rstrip=False, lstrip=False, single_word=False, normalized=True, special=True),\n",
       "}"
      ]
     },
     "execution_count": 12,
     "metadata": {},
     "output_type": "execute_result"
    }
   ],
   "source": [
    "tokenizer"
   ]
  },
  {
   "cell_type": "code",
   "execution_count": null,
   "metadata": {
    "id": "XIlb1VO-d7ia"
   },
   "outputs": [],
   "source": [
    "from datasets import load_dataset\n",
    "\n",
    "train_file_name = 'question_answers_data_100.jsonl'\n",
    "val_file_name = 'question_answers_data_30.jsonl'\n",
    "\n",
    "dataset = load_dataset(\"json\", data_files={\"train\": train_file_name,\n",
    "                                           \"validation\": val_file_name})"
   ]
  },
  {
   "cell_type": "code",
   "execution_count": null,
   "metadata": {
    "colab": {
     "base_uri": "https://localhost:8080/"
    },
    "id": "zEi6dG1AjlSL",
    "outputId": "6d1cdaa1-bbe2-4c6c-f0de-11a5fb5986ad"
   },
   "outputs": [
    {
     "data": {
      "text/plain": [
       "DatasetDict({\n",
       "    train: Dataset({\n",
       "        features: ['source', 'question', 'answer'],\n",
       "        num_rows: 100\n",
       "    })\n",
       "    validation: Dataset({\n",
       "        features: ['source', 'question', 'answer'],\n",
       "        num_rows: 30\n",
       "    })\n",
       "})"
      ]
     },
     "execution_count": 14,
     "metadata": {},
     "output_type": "execute_result"
    }
   ],
   "source": [
    "dataset"
   ]
  },
  {
   "cell_type": "code",
   "execution_count": null,
   "metadata": {
    "colab": {
     "base_uri": "https://localhost:8080/"
    },
    "id": "880B6Gb7lTQe",
    "outputId": "6aa397f0-774d-4817-9c7a-6e5963c3d218"
   },
   "outputs": [
    {
     "name": "stdout",
     "output_type": "stream",
     "text": [
      "{'text': \"tai_blog What are the benefits of using debate among AI agents to improve their learning process compared to traditional feedback methods? Debate among AI agents introduces a novel and compelling method for improving the learning process by applying concepts from game theory, specifically zero-sum games, where agents are pit against each other to argue a point, with a human judge determining the winner. This approach offers several benefits:\\n\\n1. **Enhanced Feedback Quality**: In a debate, adversarial relationships are created, forcing AI agents to constructively criticize each other's arguments. This process improves the feedback provided by human judges, as each agent attempts to present the most truthful and useful information to win the debate. The pressure to defend a position against criticism naturally elevates the quality and truthfulness of information exchanged.\\n\\n2. **Overcoming Human Feedback Limitations**: In traditional AI learning environments, continuous human feedback is often not feasible due to the complexity of the tasks. By structuring feedback through debates, AI agents can provide interpretable frameworks where human judges can more easily assess and contribute feedback, thus enabling a more efficient learning mechanism.\\n\\n3. **Scalability to Complex Tasks**: AI tasks that are too intricate for humans to provide continuous feedback can leverage the debate setup to modularize task assessments. This way, debates become avenues for breaking down complex tasks into digestible segments that a human can reasonably judge, allowing AI systems to improve in leaps alongside human comprehension.\\n\\nIn contrast, traditional feedback methods, primarily characterized by reinforced learning through environmental or direct human rewards, have challenges with scalability, especially in environments with poorly defined or sparse reward signals. Techniques like Reinforcement Learning with Human Feedback (RLHF) aim to address these gaps by incorporating human evaluations to guide the learning process. RLHF involves human feedback in tandem with environmental rewards, enabling quicker and more effective learning by utilizing human expertise to shape reward functions.\\n\\nHowever, traditional feedback methods can sometimes struggle with maintaining consistency and reliability, mainly when human feedback introduces biases or when designing environments with clear reward functions becomes tricky.\\n\\nOverall, debate among AI agents provides a robust mechanism to adapt and evolve beyond some limitations faced by traditional feedback approaches, leveraging human oversight in more structured and dynamic interactions that reflect real-world discussions and decision-making processes.\\n\\nFeel free to ask deeper questions about specific aspects, such as examples of debate games or further comparisons with various traditional feedback methods!\"}\n"
     ]
    }
   ],
   "source": [
    "# Function to merge the columns\n",
    "def merge_columns(example):\n",
    "    example['text'] = f\"{example['source']} {example['question']} {example['answer']}\"\n",
    "    # Remove the original columns\n",
    "    del example['source']\n",
    "    del example['question']\n",
    "    del example['answer']\n",
    "    return example\n",
    "\n",
    "# Apply the function to both train and validation datasets\n",
    "dataset['train'] = dataset['train'].map(merge_columns)\n",
    "dataset['validation'] = dataset['validation'].map(merge_columns)\n",
    "\n",
    "# Now 'mytext' will be part of your datasets\n",
    "print(dataset['train'][0])  # Check the first entry"
   ]
  },
  {
   "cell_type": "code",
   "execution_count": null,
   "metadata": {
    "colab": {
     "base_uri": "https://localhost:8080/"
    },
    "id": "N6Dit7PTlZ6q",
    "outputId": "d52aa03b-e79c-4e1a-d2eb-341cf24bf1eb"
   },
   "outputs": [
    {
     "data": {
      "text/plain": [
       "DatasetDict({\n",
       "    train: Dataset({\n",
       "        features: ['text'],\n",
       "        num_rows: 100\n",
       "    })\n",
       "    validation: Dataset({\n",
       "        features: ['text'],\n",
       "        num_rows: 30\n",
       "    })\n",
       "})"
      ]
     },
     "execution_count": 16,
     "metadata": {},
     "output_type": "execute_result"
    }
   ],
   "source": [
    "dataset"
   ]
  },
  {
   "cell_type": "code",
   "execution_count": null,
   "metadata": {
    "colab": {
     "base_uri": "https://localhost:8080/",
     "height": 139
    },
    "id": "qNc6pxcBjqpC",
    "outputId": "5dedb78d-7566-4b54-9524-0e4173d72f34"
   },
   "outputs": [
    {
     "data": {
      "application/vnd.google.colaboratory.intrinsic+json": {
       "type": "string"
      },
      "text/plain": [
       "\"tai_blog What are the benefits of using debate among AI agents to improve their learning process compared to traditional feedback methods? Debate among AI agents introduces a novel and compelling method for improving the learning process by applying concepts from game theory, specifically zero-sum games, where agents are pit against each other to argue a point, with a human judge determining the winner. This approach offers several benefits:\\n\\n1. **Enhanced Feedback Quality**: In a debate, adversarial relationships are created, forcing AI agents to constructively criticize each other's arguments. This process improves the feedback provided by human judges, as each agent attempts to present the most truthful and useful information to win the debate. The pressure to defend a position against criticism naturally elevates the quality and truthfulness of information exchanged.\\n\\n2. **Overcoming Human Feedback Limitations**: In traditional AI learning environments, continuous human feedback is often not feasible due to the complexity of the tasks. By structuring feedback through debates, AI agents can provide interpretable frameworks where human judges can more easily assess and contribute feedback, thus enabling a more efficient learning mechanism.\\n\\n3. **Scalability to Complex Tasks**: AI tasks that are too intricate for humans to provide continuous feedback can leverage the debate setup to modularize task assessments. This way, debates become avenues for breaking down complex tasks into digestible segments that a human can reasonably judge, allowing AI systems to improve in leaps alongside human comprehension.\\n\\nIn contrast, traditional feedback methods, primarily characterized by reinforced learning through environmental or direct human rewards, have challenges with scalability, especially in environments with poorly defined or sparse reward signals. Techniques like Reinforcement Learning with Human Feedback (RLHF) aim to address these gaps by incorporating human evaluations to guide the learning process. RLHF involves human feedback in tandem with environmental rewards, enabling quicker and more effective learning by utilizing human expertise to shape reward functions.\\n\\nHowever, traditional feedback methods can sometimes struggle with maintaining consistency and reliability, mainly when human feedback introduces biases or when designing environments with clear reward functions becomes tricky.\\n\\nOverall, debate among AI agents provides a robust mechanism to adapt and evolve beyond some limitations faced by traditional feedback approaches, leveraging human oversight in more structured and dynamic interactions that reflect real-world discussions and decision-making processes.\\n\\nFeel free to ask deeper questions about specific aspects, such as examples of debate games or further comparisons with various traditional feedback methods!\""
      ]
     },
     "execution_count": 17,
     "metadata": {},
     "output_type": "execute_result"
    }
   ],
   "source": [
    "dataset['train']['text'][0]"
   ]
  },
  {
   "cell_type": "code",
   "execution_count": null,
   "metadata": {
    "colab": {
     "base_uri": "https://localhost:8080/",
     "height": 139
    },
    "id": "w3LWbnNblyvX",
    "outputId": "e755912e-708a-4506-c0ee-9f94c3b3de37"
   },
   "outputs": [
    {
     "data": {
      "application/vnd.google.colaboratory.intrinsic+json": {
       "type": "string"
      },
      "text/plain": [
       "'langchain What types of file formats can be processed using Azure AI Document Intelligence? Azure AI Document Intelligence can process a variety of file formats. Supported file formats include:\\n\\n- **PDF**: Portable Document Format files.\\n- **JPEG/JPG**: Image files in the JPEG format.\\n- **PNG**: Image files in the Portable Network Graphics format.\\n- **BMP**: Bitmap image files.\\n- **TIFF**: Tagged Image File Format files, often used in professional photography and publishing.\\n- **HEIF**: High-Efficiency Image File format, commonly used in modern digital photography.\\n- **DOCX**: Microsoft Word document files.\\n- **XLSX**: Microsoft Excel spreadsheet files.\\n- **PPTX**: Microsoft PowerPoint presentation files.\\n- **HTML**: Hypertext Markup Language files, used for web pages.\\n\\nThis broad range of supported formats allows Azure AI Document Intelligence to handle both textual and graphical content, making it versatile for various document types, whether scanned or digital. If you have more questions or need further elaboration on this topic, feel free to ask!'"
      ]
     },
     "execution_count": 18,
     "metadata": {},
     "output_type": "execute_result"
    }
   ],
   "source": [
    "dataset['validation']['text'][0]"
   ]
  },
  {
   "cell_type": "code",
   "execution_count": null,
   "metadata": {
    "id": "qdDp6ykTkBHU"
   },
   "outputs": [],
   "source": [
    "block_size = 256     # max tokens in an input sampleHuggingFace\n",
    "\n",
    "def tokenize_function(examples):\n",
    "    return tokenizer(examples[\"text\"], padding='max_length', truncation=True, max_length=block_size, return_tensors='pt')\n",
    "\n",
    "tokenized_datasets = dataset.map(tokenize_function, batched=True)"
   ]
  },
  {
   "cell_type": "code",
   "execution_count": null,
   "metadata": {
    "colab": {
     "base_uri": "https://localhost:8080/"
    },
    "id": "MNR5pZZIrlpg",
    "outputId": "69e924e1-7dfd-4b3f-848c-0822119a0ab0"
   },
   "outputs": [
    {
     "data": {
      "text/plain": [
       "DatasetDict({\n",
       "    train: Dataset({\n",
       "        features: ['text', 'input_ids', 'attention_mask'],\n",
       "        num_rows: 100\n",
       "    })\n",
       "    validation: Dataset({\n",
       "        features: ['text', 'input_ids', 'attention_mask'],\n",
       "        num_rows: 30\n",
       "    })\n",
       "})"
      ]
     },
     "execution_count": 20,
     "metadata": {},
     "output_type": "execute_result"
    }
   ],
   "source": [
    "tokenized_datasets"
   ]
  },
  {
   "cell_type": "code",
   "execution_count": null,
   "metadata": {
    "colab": {
     "base_uri": "https://localhost:8080/"
    },
    "id": "y8uvK6FMsuRn",
    "outputId": "7905bcec-c7a3-42dd-dd5c-727fb537dcd4"
   },
   "outputs": [
    {
     "data": {
      "text/plain": [
       "DatasetDict({\n",
       "    train: Dataset({\n",
       "        features: ['text', 'input_ids', 'attention_mask', 'labels'],\n",
       "        num_rows: 100\n",
       "    })\n",
       "    validation: Dataset({\n",
       "        features: ['text', 'input_ids', 'attention_mask', 'labels'],\n",
       "        num_rows: 30\n",
       "    })\n",
       "})"
      ]
     },
     "execution_count": 21,
     "metadata": {},
     "output_type": "execute_result"
    }
   ],
   "source": [
    "# Add the 'label' feature to the tokenized_datasets\n",
    "def add_label_feature(example):\n",
    "    example['labels'] = example['input_ids']\n",
    "    return example\n",
    "\n",
    "tokenized_datasets = tokenized_datasets.map(add_label_feature)\n",
    "tokenized_datasets"
   ]
  },
  {
   "cell_type": "code",
   "execution_count": null,
   "metadata": {
    "id": "D0IBY30sd7nP"
   },
   "outputs": [],
   "source": [
    "# Set up the training arguments\n",
    "from transformers import Trainer, TrainingArguments\n",
    "model_output_path = \"/content/tutor_model\"\n",
    "\n",
    "training_args = TrainingArguments(\n",
    "    output_dir = model_output_path,\n",
    "    overwrite_output_dir = True,\n",
    "    per_device_train_batch_size = 4, # try with 2\n",
    "    per_device_eval_batch_size = 4,  #  try with 2\n",
    "    num_train_epochs = 10,\n",
    "    save_steps = 1_000,\n",
    "    save_total_limit = 2,\n",
    "    logging_dir = './logs',\n",
    ")"
   ]
  },
  {
   "cell_type": "code",
   "execution_count": null,
   "metadata": {
    "id": "lOi__4qjv8-w"
   },
   "outputs": [],
   "source": [
    "from transformers import DataCollatorForLanguageModeling\n",
    "data_collator = DataCollatorForLanguageModeling(tokenizer=tokenizer, mlm=False, return_tensors=\"pt\")"
   ]
  },
  {
   "cell_type": "code",
   "execution_count": null,
   "metadata": {
    "id": "lLh3eVZ4d7k3"
   },
   "outputs": [],
   "source": [
    "# Train the model\n",
    "from transformers import Trainer\n",
    "trainer = Trainer(\n",
    "    model = model,\n",
    "    args = training_args,\n",
    "    data_collator = data_collator,\n",
    "    train_dataset = tokenized_datasets[\"train\"],\n",
    "    eval_dataset = tokenized_datasets[\"validation\"]\n",
    ")"
   ]
  },
  {
   "cell_type": "code",
   "execution_count": null,
   "metadata": {
    "colab": {
     "base_uri": "https://localhost:8080/",
     "height": 269
    },
    "id": "S12q09Bfia4K",
    "outputId": "87237af7-a036-4c63-b1ff-b2c3c0553e28"
   },
   "outputs": [
    {
     "name": "stderr",
     "output_type": "stream",
     "text": [
      "\u001b[34m\u001b[1mwandb\u001b[0m: \u001b[33mWARNING\u001b[0m The `run_name` is currently set to the same value as `TrainingArguments.output_dir`. If this was not intended, please specify a different run name by setting the `TrainingArguments.run_name` parameter.\n",
      "\u001b[34m\u001b[1mwandb\u001b[0m: Using wandb-core as the SDK backend.  Please refer to https://wandb.me/wandb-core for more information.\n",
      "\u001b[34m\u001b[1mwandb\u001b[0m: Currently logged in as: \u001b[33mchsubhasis\u001b[0m (\u001b[33mchsubhasis-enphase-energy\u001b[0m). Use \u001b[1m`wandb login --relogin`\u001b[0m to force relogin\n"
     ]
    },
    {
     "data": {
      "text/html": [
       "Tracking run with wandb version 0.18.7"
      ],
      "text/plain": [
       "<IPython.core.display.HTML object>"
      ]
     },
     "metadata": {},
     "output_type": "display_data"
    },
    {
     "data": {
      "text/html": [
       "Run data is saved locally in <code>/content/wandb/run-20241122_072806-pa2lxt4p</code>"
      ],
      "text/plain": [
       "<IPython.core.display.HTML object>"
      ]
     },
     "metadata": {},
     "output_type": "display_data"
    },
    {
     "data": {
      "text/html": [
       "Syncing run <strong><a href='https://wandb.ai/chsubhasis-enphase-energy/huggingface/runs/pa2lxt4p' target=\"_blank\">/content/tutor_model</a></strong> to <a href='https://wandb.ai/chsubhasis-enphase-energy/huggingface' target=\"_blank\">Weights & Biases</a> (<a href='https://wandb.me/developer-guide' target=\"_blank\">docs</a>)<br/>"
      ],
      "text/plain": [
       "<IPython.core.display.HTML object>"
      ]
     },
     "metadata": {},
     "output_type": "display_data"
    },
    {
     "data": {
      "text/html": [
       " View project at <a href='https://wandb.ai/chsubhasis-enphase-energy/huggingface' target=\"_blank\">https://wandb.ai/chsubhasis-enphase-energy/huggingface</a>"
      ],
      "text/plain": [
       "<IPython.core.display.HTML object>"
      ]
     },
     "metadata": {},
     "output_type": "display_data"
    },
    {
     "data": {
      "text/html": [
       " View run at <a href='https://wandb.ai/chsubhasis-enphase-energy/huggingface/runs/pa2lxt4p' target=\"_blank\">https://wandb.ai/chsubhasis-enphase-energy/huggingface/runs/pa2lxt4p</a>"
      ],
      "text/plain": [
       "<IPython.core.display.HTML object>"
      ]
     },
     "metadata": {},
     "output_type": "display_data"
    },
    {
     "data": {
      "text/html": [
       "\n",
       "    <div>\n",
       "      \n",
       "      <progress value='250' max='250' style='width:300px; height:20px; vertical-align: middle;'></progress>\n",
       "      [250/250 01:29, Epoch 10/10]\n",
       "    </div>\n",
       "    <table border=\"1\" class=\"dataframe\">\n",
       "  <thead>\n",
       " <tr style=\"text-align: left;\">\n",
       "      <th>Step</th>\n",
       "      <th>Training Loss</th>\n",
       "    </tr>\n",
       "  </thead>\n",
       "  <tbody>\n",
       "  </tbody>\n",
       "</table><p>"
      ],
      "text/plain": [
       "<IPython.core.display.HTML object>"
      ]
     },
     "metadata": {},
     "output_type": "display_data"
    },
    {
     "data": {
      "text/plain": [
       "TrainOutput(global_step=250, training_loss=2.20593701171875, metrics={'train_runtime': 94.5875, 'train_samples_per_second': 10.572, 'train_steps_per_second': 2.643, 'total_flos': 130646016000000.0, 'train_loss': 2.20593701171875, 'epoch': 10.0})"
      ]
     },
     "execution_count": 25,
     "metadata": {},
     "output_type": "execute_result"
    }
   ],
   "source": [
    "trainer.train()"
   ]
  },
  {
   "cell_type": "code",
   "execution_count": null,
   "metadata": {
    "colab": {
     "base_uri": "https://localhost:8080/"
    },
    "id": "MD53IBOpia2G",
    "outputId": "eeb50785-66ba-43db-c579-9103fbb381d5"
   },
   "outputs": [
    {
     "data": {
      "text/plain": [
       "('/content/finetuned_aitutor_model/tokenizer_config.json',\n",
       " '/content/finetuned_aitutor_model/special_tokens_map.json',\n",
       " '/content/finetuned_aitutor_model/vocab.json',\n",
       " '/content/finetuned_aitutor_model/merges.txt',\n",
       " '/content/finetuned_aitutor_model/added_tokens.json')"
      ]
     },
     "execution_count": 26,
     "metadata": {},
     "output_type": "execute_result"
    }
   ],
   "source": [
    "# Save the model\n",
    "saved_model_path = \"/content/finetuned_aitutor_model\"\n",
    "trainer.save_model(saved_model_path)\n",
    "\n",
    "# Save the tokenizer\n",
    "tokenizer.save_pretrained(saved_model_path)"
   ]
  },
  {
   "cell_type": "code",
   "execution_count": null,
   "metadata": {
    "id": "0262Bb0CxwNd"
   },
   "outputs": [],
   "source": [
    "#Now reuse this new model\n",
    "\n",
    "my_model_finetuned = GPT2LMHeadModel.from_pretrained(saved_model_path)\n",
    "my_tokenizer_finetuned = GPT2Tokenizer.from_pretrained(saved_model_path)"
   ]
  },
  {
   "cell_type": "code",
   "execution_count": null,
   "metadata": {
    "id": "xhejcASIyFx3"
   },
   "outputs": [],
   "source": [
    "import torch\n",
    "def generate_response(model, tokenizer, prompt, max_length=200):\n",
    "\n",
    "    input_ids = tokenizer.encode(prompt, return_tensors=\"pt\")      # 'pt' for returning pytorch tensor\n",
    "\n",
    "    # Check the device of the model\n",
    "    device = next(model.parameters()).device\n",
    "\n",
    "    # Move input_ids to the same device as the model\n",
    "    input_ids = input_ids.to(device)\n",
    "\n",
    "    # Create the attention mask and pad token id\n",
    "    attention_mask = torch.ones_like(input_ids)\n",
    "    pad_token_id = tokenizer.eos_token_id\n",
    "\n",
    "    output = model.generate(\n",
    "        input_ids,\n",
    "        max_length=max_length,\n",
    "        num_return_sequences=1,\n",
    "        attention_mask=attention_mask,\n",
    "        pad_token_id=pad_token_id\n",
    "    )\n",
    "\n",
    "    return tokenizer.decode(output[0], skip_special_tokens=True)"
   ]
  },
  {
   "cell_type": "code",
   "execution_count": null,
   "metadata": {
    "colab": {
     "base_uri": "https://localhost:8080/",
     "height": 157
    },
    "id": "o82bG5mTx97m",
    "outputId": "127ee6df-376b-4a24-c3ee-38b86fef19a6"
   },
   "outputs": [
    {
     "name": "stdout",
     "output_type": "stream",
     "text": [
      "Generated response:\n"
     ]
    },
    {
     "data": {
      "application/vnd.google.colaboratory.intrinsic+json": {
       "type": "string"
      },
      "text/plain": [
       "'What is Artifician Intelligence? Artifician intelligence is a measure of the ability of a mathematician to grasp the complexities of mathematical problems and applications without resorting to traditional methods. It is defined as the ability to grasp the intricate mathematical structures of mathematical problems and applications without resorting to traditional methods.\\n\\n### What Is Artifician Intelligence? Artifician intelligence is defined as the ability to grasp the intricate mathematical structures of mathematical problems and applications without resorting to traditional methods. It is defined as the ability to grasp the intricate mathematical structures of mathematical problems and applications without resorting to traditional methods.\\n\\n### What Is Its Benefits? Artifician intelligence is crucial for understanding the intricate mathematical structures of mathematical applications. It helps in understanding the relationships between mathematical operations and data structures, as well as understanding the intricate relationships between mathematical operations and data structures.\\n\\n### What Is Its Usage? Artifician intelligence is essential for understanding the intricate mathematical structures of mathematical applications. It helps in understanding'"
      ]
     },
     "execution_count": 31,
     "metadata": {},
     "output_type": "execute_result"
    }
   ],
   "source": [
    "prompt = \"What is Artifician Intelligence?\"\n",
    "response = generate_response(my_model_finetuned, my_tokenizer_finetuned, prompt)\n",
    "print(\"Generated response:\")\n",
    "response"
   ]
  },
  {
   "cell_type": "code",
   "execution_count": null,
   "metadata": {
    "colab": {
     "base_uri": "https://localhost:8080/"
    },
    "id": "_B_jR7NCyiQI",
    "outputId": "1ebd9dbb-ce2c-4253-ba9d-dcb27016dcec"
   },
   "outputs": [
    {
     "name": "stdout",
     "output_type": "stream",
     "text": [
      "\n",
      "    _|    _|  _|    _|    _|_|_|    _|_|_|  _|_|_|  _|      _|    _|_|_|      _|_|_|_|    _|_|      _|_|_|  _|_|_|_|\n",
      "    _|    _|  _|    _|  _|        _|          _|    _|_|    _|  _|            _|        _|    _|  _|        _|\n",
      "    _|_|_|_|  _|    _|  _|  _|_|  _|  _|_|    _|    _|  _|  _|  _|  _|_|      _|_|_|    _|_|_|_|  _|        _|_|_|\n",
      "    _|    _|  _|    _|  _|    _|  _|    _|    _|    _|    _|_|  _|    _|      _|        _|    _|  _|        _|\n",
      "    _|    _|    _|_|      _|_|_|    _|_|_|  _|_|_|  _|      _|    _|_|_|      _|        _|    _|    _|_|_|  _|_|_|_|\n",
      "\n",
      "    A token is already saved on your machine. Run `huggingface-cli whoami` to get more information or `huggingface-cli logout` if you want to log out.\n",
      "    Setting a new token will erase the existing one.\n",
      "    To log in, `huggingface_hub` requires a token generated from https://huggingface.co/settings/tokens .\n",
      "Enter your token (input will not be visible): \n",
      "Add token as git credential? (Y/n) \n",
      "Token is valid (permission: fineGrained).\n",
      "The token `Mytoken` has been saved to /root/.cache/huggingface/stored_tokens\n",
      "\u001b[1m\u001b[31mCannot authenticate through git-credential as no helper is defined on your machine.\n",
      "You might have to re-authenticate when pushing to the Hugging Face Hub.\n",
      "Run the following command in your terminal in case you want to set the 'store' credential helper as default.\n",
      "\n",
      "git config --global credential.helper store\n",
      "\n",
      "Read https://git-scm.com/book/en/v2/Git-Tools-Credential-Storage for more details.\u001b[0m\n",
      "Token has not been saved to git credential helper.\n",
      "Your token has been saved to /root/.cache/huggingface/token\n",
      "Login successful.\n",
      "Note: Environment variable`HF_TOKEN` is set and is the current active token independently from the token you've just configured.\n"
     ]
    }
   ],
   "source": [
    "#Push your fine-tuned model to HuggingFace Model Hub\n",
    "!huggingface-cli login"
   ]
  },
  {
   "cell_type": "code",
   "execution_count": null,
   "metadata": {
    "colab": {
     "base_uri": "https://localhost:8080/",
     "height": 118,
     "referenced_widgets": [
      "532f03e22f564579be55053804f81081",
      "d9f0542fb2044ae68d5217a6e289bc5b",
      "09301fc057554259ac0f37aacb757f8c",
      "bc5ec7d2c9fa4b33b8e5c56114f147b2",
      "f95603a90f714f1a87fe69bf8f161add",
      "912887ca5e9e492ca392f26f0e96ec9a",
      "6c97ae1380e44d0ba17d371556a89cc7",
      "8d0956213ef04fc9a7a3d8cde7bb6f2f",
      "18f81a6c09fc46cca9b935c0353dc5c7",
      "f8acee130e5a4fd89d433f2b55ff39a9",
      "3446bde3d2fe4eef938d02277ad5f3f0"
     ]
    },
    "id": "J09vBbKRysYF",
    "outputId": "7a929882-80ef-46bb-b043-f28592f1ad56"
   },
   "outputs": [
    {
     "data": {
      "application/vnd.jupyter.widget-view+json": {
       "model_id": "532f03e22f564579be55053804f81081",
       "version_major": 2,
       "version_minor": 0
      },
      "text/plain": [
       "model.safetensors:   0%|          | 0.00/498M [00:00<?, ?B/s]"
      ]
     },
     "metadata": {},
     "output_type": "display_data"
    },
    {
     "data": {
      "application/vnd.google.colaboratory.intrinsic+json": {
       "type": "string"
      },
      "text/plain": [
       "CommitInfo(commit_url='https://huggingface.co/chsubhasis/ai-tutor-towardsai/commit/2e60190e12d8fc4159456e18aae6965519c1135e', commit_message='Upload fine-tuned model', commit_description='', oid='2e60190e12d8fc4159456e18aae6965519c1135e', pr_url=None, repo_url=RepoUrl('https://huggingface.co/chsubhasis/ai-tutor-towardsai', endpoint='https://huggingface.co', repo_type='model', repo_id='chsubhasis/ai-tutor-towardsai'), pr_revision=None, pr_num=None)"
      ]
     },
     "execution_count": 34,
     "metadata": {},
     "output_type": "execute_result"
    }
   ],
   "source": [
    "# Push model\n",
    "my_repo = \"ai-tutor-towardsai\"\n",
    "my_model_finetuned.push_to_hub(repo_id= my_repo, commit_message= \"Upload fine-tuned model\")"
   ]
  },
  {
   "cell_type": "code",
   "execution_count": null,
   "metadata": {
    "colab": {
     "base_uri": "https://localhost:8080/",
     "height": 118,
     "referenced_widgets": [
      "d9417ff8dc3f4153839ff1d3038c58fa",
      "c811cbc9281247f58a223ba042c4997d",
      "e5a0285795b8498095745c41f1e22055",
      "f0584b8748064a4bb8c6a27336f5f9bd",
      "c948741277394e47b2ab17a98a8196ce",
      "531ffee5d0e1466082994d73b4ac1fe8",
      "0bce90abc61a43b4a3039a54b678620c",
      "4786983ecde54f5c9d497c84da3b6181",
      "6e0a31e9ee184bd68806e3bf1939acd9",
      "fd258cade3de4aeb82fc06901ae87349",
      "557f58a09c60423c94f69909dac4d43d"
     ]
    },
    "id": "IA-QTDz-y-P7",
    "outputId": "3822992c-9e00-46e7-e72b-5818899a9603"
   },
   "outputs": [
    {
     "data": {
      "application/vnd.jupyter.widget-view+json": {
       "model_id": "d9417ff8dc3f4153839ff1d3038c58fa",
       "version_major": 2,
       "version_minor": 0
      },
      "text/plain": [
       "README.md:   0%|          | 0.00/5.17k [00:00<?, ?B/s]"
      ]
     },
     "metadata": {},
     "output_type": "display_data"
    },
    {
     "data": {
      "application/vnd.google.colaboratory.intrinsic+json": {
       "type": "string"
      },
      "text/plain": [
       "CommitInfo(commit_url='https://huggingface.co/chsubhasis/ai-tutor-towardsai/commit/67f2981cd2c5771359d5f49381d95b49ac0c8975', commit_message='Upload tokenizer used', commit_description='', oid='67f2981cd2c5771359d5f49381d95b49ac0c8975', pr_url=None, repo_url=RepoUrl('https://huggingface.co/chsubhasis/ai-tutor-towardsai', endpoint='https://huggingface.co', repo_type='model', repo_id='chsubhasis/ai-tutor-towardsai'), pr_revision=None, pr_num=None)"
      ]
     },
     "execution_count": 35,
     "metadata": {},
     "output_type": "execute_result"
    }
   ],
   "source": [
    "# Push tokenizer\n",
    "my_tokenizer_finetuned.push_to_hub(repo_id= my_repo, commit_message= \"Upload tokenizer used\")"
   ]
  },
  {
   "cell_type": "code",
   "execution_count": null,
   "metadata": {
    "colab": {
     "base_uri": "https://localhost:8080/",
     "height": 296,
     "referenced_widgets": [
      "1ce1d8d2cc34429aaa4f172e88a05cab",
      "57206c64b3304a579183cdb239f4e29b",
      "c4437411051e4d9fae68a11fc3e09c9f",
      "40550d027d254484b6ab45a27d988be5",
      "4505fab565fc4df282c0d8e1f521f792",
      "c86c91c30c9946f6a6a843cba2f4b584",
      "741ef36499ad4389a273a65a1a1f4888",
      "96ef9d4cb43342faa9274bbec4507168",
      "850107cdc97e4f7da9a0c298778ce0b9",
      "373d4379242446de82b946ffd8e49a22",
      "299deacac61b4b7dac3d1f1b3ce7fe6e",
      "2e0176f189c9458183d34c45db32ff1a",
      "497160633f234c84833bfb90d6f6c0fb",
      "4af55a7ce77644c7ba5ceacfe9f80341",
      "89592c6827ba41f38bad3cd0ac4b0bec",
      "e97f09ccf7514cac88a1969dad482aae",
      "ab9aabf437034f0ebda4dd222290b4d6",
      "e4fa0d49ef594cfaaf95b3e2f7ebdf36",
      "28d6cab5a26f4f7aac496784e57c958a",
      "f2d8d067732d4fdda98a56a9255137a2",
      "98527ccc139443e59dd1d38cef39a6a0",
      "18fc0ca024684009a5d64e062c190e1b",
      "e02610f4d3ce4b87ac1fcd5b1569277a",
      "d87919d86d5c4f0cad45010ae3543cd7",
      "516e316ae8e94da88a3d96ff6519b5a9",
      "dfeed52c74f84bcca23d86d1522e43ba",
      "37850c50da414143bfa294dbc3446f55",
      "1727e13dcd3d4abcb7ee1b41c2bb150f",
      "1172d73f44044e8ba28861194950f753",
      "507e882984d3421fa3e298ffc0949571",
      "5b867af8d02c45bcaebcd64dfe37ece9",
      "fdd0b9a913a446ee9bb966da52a63387",
      "bd3b50b6ceb0470ea69abbf50a76f2b8",
      "41d22678b5674191a91d146e22073c7a",
      "c4ff20ab0c5e4e0a86f0ef786c92b4fd",
      "505367dc35a14213bee4180534b6deb4",
      "9f4a9107150b4948b98037896b898989",
      "d1e805f57015484280efdb4f6af1c050",
      "2228baed34d941e7a35d9ebf32a66636",
      "1fe9bd930e2c4e88ba86551cc49ff2a5",
      "828d341c19e444869feeefd2dd58254c",
      "73fcd2eb52da446cbd707a73338298cd",
      "f26b6def5f644f67a947977b626144bd",
      "d7fb9a095b294eca8d84fb87a0d75f8d",
      "fbbbb3d70c9541278e4c21c47a2e0a4c",
      "892f30f60aa242c5ad8cc2bc5579e77d",
      "690f518dbd71491d9732ca646ecbed44",
      "6988a5909d5147ffa9ef163567c6123e",
      "175969d6ab8e4e289df7ad2817c856ab",
      "b9611ba70ec848169f4d10de2684ff22",
      "0ce739466eed42dd852b2fb438608f61",
      "71f8e9f30bcc4412a7f400f3c785e953",
      "e9846aa6792c473daa77293b289e5ec7",
      "bbeed7470b5a4414b183e12f3c4ad12e",
      "163b954667dc41c9a304de2c4eae0f38",
      "4744e8ab6da6454982c0238801a13a3c",
      "783db5a03b8f4e36a3099b926352b6f1",
      "308c9ed1eb8f4e098309be4e2f03f429",
      "7e00c6b49630474aac482e7b3f546c21",
      "f3509c617f8240c98d5f44d2be44404a",
      "68390f9ce9d54451a5a04c5f89012d28",
      "0d0e3530206149d38911c7cb2667855c",
      "d4386db3ce8f4b1c9b89679636df799a",
      "91cae23274464183961fe4f32a461d03",
      "dda8430d17e44e97a95a012b9dac4f16",
      "53f38402648948d492271b7f3b11c662",
      "d00b4d4df044492b846d1e8fe85cc0e0",
      "9aaedee8e6734e43b4646e7a35ec4aee",
      "ce0cd934539f437b935cc7bbff34c1eb",
      "21947c165ae44fdcbe0d4836a4a1ad5f",
      "707e6b27838946ea83123618efec0259",
      "98d74e788d0045cba05544a9904f4222",
      "33907ee28f9146dc84a783d08db8c84b",
      "b9a78636ba62451499fa97c9a3641837",
      "d564d8015abe4cd8bb895db0d9dc9c4d",
      "4737836567484859bbb25bef0b1e2934",
      "2183ff84b0f145c593e96ff55b77e8ac"
     ]
    },
    "id": "bJ-85o9tzSKX",
    "outputId": "22ccbaf1-a92c-4721-dcb9-962c2439b321"
   },
   "outputs": [
    {
     "name": "stderr",
     "output_type": "stream",
     "text": [
      "/usr/local/lib/python3.10/dist-packages/transformers/models/auto/modeling_auto.py:1833: FutureWarning: The class `AutoModelWithLMHead` is deprecated and will be removed in a future version. Please use `AutoModelForCausalLM` for causal language models, `AutoModelForMaskedLM` for masked language models and `AutoModelForSeq2SeqLM` for encoder-decoder models.\n",
      "  warnings.warn(\n"
     ]
    },
    {
     "data": {
      "application/vnd.jupyter.widget-view+json": {
       "model_id": "1ce1d8d2cc34429aaa4f172e88a05cab",
       "version_major": 2,
       "version_minor": 0
      },
      "text/plain": [
       "config.json:   0%|          | 0.00/935 [00:00<?, ?B/s]"
      ]
     },
     "metadata": {},
     "output_type": "display_data"
    },
    {
     "data": {
      "application/vnd.jupyter.widget-view+json": {
       "model_id": "2e0176f189c9458183d34c45db32ff1a",
       "version_major": 2,
       "version_minor": 0
      },
      "text/plain": [
       "model.safetensors:   0%|          | 0.00/498M [00:00<?, ?B/s]"
      ]
     },
     "metadata": {},
     "output_type": "display_data"
    },
    {
     "data": {
      "application/vnd.jupyter.widget-view+json": {
       "model_id": "e02610f4d3ce4b87ac1fcd5b1569277a",
       "version_major": 2,
       "version_minor": 0
      },
      "text/plain": [
       "generation_config.json:   0%|          | 0.00/119 [00:00<?, ?B/s]"
      ]
     },
     "metadata": {},
     "output_type": "display_data"
    },
    {
     "data": {
      "application/vnd.jupyter.widget-view+json": {
       "model_id": "41d22678b5674191a91d146e22073c7a",
       "version_major": 2,
       "version_minor": 0
      },
      "text/plain": [
       "tokenizer_config.json:   0%|          | 0.00/526 [00:00<?, ?B/s]"
      ]
     },
     "metadata": {},
     "output_type": "display_data"
    },
    {
     "data": {
      "application/vnd.jupyter.widget-view+json": {
       "model_id": "fbbbb3d70c9541278e4c21c47a2e0a4c",
       "version_major": 2,
       "version_minor": 0
      },
      "text/plain": [
       "vocab.json:   0%|          | 0.00/999k [00:00<?, ?B/s]"
      ]
     },
     "metadata": {},
     "output_type": "display_data"
    },
    {
     "data": {
      "application/vnd.jupyter.widget-view+json": {
       "model_id": "4744e8ab6da6454982c0238801a13a3c",
       "version_major": 2,
       "version_minor": 0
      },
      "text/plain": [
       "merges.txt:   0%|          | 0.00/456k [00:00<?, ?B/s]"
      ]
     },
     "metadata": {},
     "output_type": "display_data"
    },
    {
     "data": {
      "application/vnd.jupyter.widget-view+json": {
       "model_id": "d00b4d4df044492b846d1e8fe85cc0e0",
       "version_major": 2,
       "version_minor": 0
      },
      "text/plain": [
       "special_tokens_map.json:   0%|          | 0.00/583 [00:00<?, ?B/s]"
      ]
     },
     "metadata": {},
     "output_type": "display_data"
    }
   ],
   "source": [
    "#Load the model and tokenizer back from Hub and test it with user input prompts\n",
    "from transformers import AutoModelWithLMHead, AutoTokenizer\n",
    "\n",
    "my_checkpoint = \"chsubhasis/ai-tutor-towardsai\"\n",
    "loaded_model = AutoModelWithLMHead.from_pretrained(my_checkpoint)\n",
    "loaded_tokenizer = AutoTokenizer.from_pretrained(my_checkpoint)"
   ]
  },
  {
   "cell_type": "code",
   "execution_count": null,
   "metadata": {
    "colab": {
     "base_uri": "https://localhost:8080/",
     "height": 157
    },
    "id": "yZnR1qYPz8yD",
    "outputId": "235f3460-5bfc-4c99-8283-28da56851415"
   },
   "outputs": [
    {
     "name": "stdout",
     "output_type": "stream",
     "text": [
      "Generated response:\n"
     ]
    },
    {
     "data": {
      "application/vnd.google.colaboratory.intrinsic+json": {
       "type": "string"
      },
      "text/plain": [
       "'What is Artifician Intelligence? Artifician intelligence is a measure of the ability of a mathematician to grasp the complexities of mathematical problems and applications without resorting to traditional methods. It is defined as the ability to grasp the intricate mathematical structures of mathematical problems and applications without resorting to traditional methods.\\n\\n### What Is Artifician Intelligence? Artifician intelligence is defined as the ability to grasp the intricate mathematical structures of mathematical problems and applications without resorting to traditional methods. It is defined as the ability to grasp the intricate mathematical structures of mathematical problems and applications without resorting to traditional methods.\\n\\n### What Is Its Benefits? Artifician intelligence is crucial for understanding the intricate mathematical structures of mathematical applications. It helps in understanding the relationships between mathematical operations and data structures, as well as understanding the intricate relationships between mathematical operations and data structures.\\n\\n### What Is Its Usage? Artifician intelligence is essential for understanding the intricate mathematical structures of mathematical applications. It helps in understanding'"
      ]
     },
     "execution_count": 38,
     "metadata": {},
     "output_type": "execute_result"
    }
   ],
   "source": [
    "prompt = \"What is Artifician Intelligence?\"           # Replace with your desired prompt\n",
    "response = generate_response(loaded_model, loaded_tokenizer, prompt)\n",
    "print(\"Generated response:\")\n",
    "response"
   ]
  }
 ],
 "metadata": {
  "accelerator": "GPU",
  "colab": {
   "gpuType": "T4",
   "provenance": []
  },
  "kernelspec": {
   "display_name": "Python 3",
   "name": "python3"
  },
  "language_info": {
   "name": "python"
  },
  "widgets": {
   "application/vnd.jupyter.widget-state+json": {
    "09301fc057554259ac0f37aacb757f8c": {
     "model_module": "@jupyter-widgets/controls",
     "model_module_version": "1.5.0",
     "model_name": "FloatProgressModel",
     "state": {
      "_dom_classes": [],
      "_model_module": "@jupyter-widgets/controls",
      "_model_module_version": "1.5.0",
      "_model_name": "FloatProgressModel",
      "_view_count": null,
      "_view_module": "@jupyter-widgets/controls",
      "_view_module_version": "1.5.0",
      "_view_name": "ProgressView",
      "bar_style": "success",
      "description": "",
      "description_tooltip": null,
      "layout": "IPY_MODEL_8d0956213ef04fc9a7a3d8cde7bb6f2f",
      "max": 497774208,
      "min": 0,
      "orientation": "horizontal",
      "style": "IPY_MODEL_18f81a6c09fc46cca9b935c0353dc5c7",
      "value": 497774208
     }
    },
    "0bce90abc61a43b4a3039a54b678620c": {
     "model_module": "@jupyter-widgets/controls",
     "model_module_version": "1.5.0",
     "model_name": "DescriptionStyleModel",
     "state": {
      "_model_module": "@jupyter-widgets/controls",
      "_model_module_version": "1.5.0",
      "_model_name": "DescriptionStyleModel",
      "_view_count": null,
      "_view_module": "@jupyter-widgets/base",
      "_view_module_version": "1.2.0",
      "_view_name": "StyleView",
      "description_width": ""
     }
    },
    "0ce739466eed42dd852b2fb438608f61": {
     "model_module": "@jupyter-widgets/controls",
     "model_module_version": "1.5.0",
     "model_name": "DescriptionStyleModel",
     "state": {
      "_model_module": "@jupyter-widgets/controls",
      "_model_module_version": "1.5.0",
      "_model_name": "DescriptionStyleModel",
      "_view_count": null,
      "_view_module": "@jupyter-widgets/base",
      "_view_module_version": "1.2.0",
      "_view_name": "StyleView",
      "description_width": ""
     }
    },
    "0d0e3530206149d38911c7cb2667855c": {
     "model_module": "@jupyter-widgets/controls",
     "model_module_version": "1.5.0",
     "model_name": "DescriptionStyleModel",
     "state": {
      "_model_module": "@jupyter-widgets/controls",
      "_model_module_version": "1.5.0",
      "_model_name": "DescriptionStyleModel",
      "_view_count": null,
      "_view_module": "@jupyter-widgets/base",
      "_view_module_version": "1.2.0",
      "_view_name": "StyleView",
      "description_width": ""
     }
    },
    "1172d73f44044e8ba28861194950f753": {
     "model_module": "@jupyter-widgets/controls",
     "model_module_version": "1.5.0",
     "model_name": "DescriptionStyleModel",
     "state": {
      "_model_module": "@jupyter-widgets/controls",
      "_model_module_version": "1.5.0",
      "_model_name": "DescriptionStyleModel",
      "_view_count": null,
      "_view_module": "@jupyter-widgets/base",
      "_view_module_version": "1.2.0",
      "_view_name": "StyleView",
      "description_width": ""
     }
    },
    "163b954667dc41c9a304de2c4eae0f38": {
     "model_module": "@jupyter-widgets/controls",
     "model_module_version": "1.5.0",
     "model_name": "DescriptionStyleModel",
     "state": {
      "_model_module": "@jupyter-widgets/controls",
      "_model_module_version": "1.5.0",
      "_model_name": "DescriptionStyleModel",
      "_view_count": null,
      "_view_module": "@jupyter-widgets/base",
      "_view_module_version": "1.2.0",
      "_view_name": "StyleView",
      "description_width": ""
     }
    },
    "1727e13dcd3d4abcb7ee1b41c2bb150f": {
     "model_module": "@jupyter-widgets/base",
     "model_module_version": "1.2.0",
     "model_name": "LayoutModel",
     "state": {
      "_model_module": "@jupyter-widgets/base",
      "_model_module_version": "1.2.0",
      "_model_name": "LayoutModel",
      "_view_count": null,
      "_view_module": "@jupyter-widgets/base",
      "_view_module_version": "1.2.0",
      "_view_name": "LayoutView",
      "align_content": null,
      "align_items": null,
      "align_self": null,
      "border": null,
      "bottom": null,
      "display": null,
      "flex": null,
      "flex_flow": null,
      "grid_area": null,
      "grid_auto_columns": null,
      "grid_auto_flow": null,
      "grid_auto_rows": null,
      "grid_column": null,
      "grid_gap": null,
      "grid_row": null,
      "grid_template_areas": null,
      "grid_template_columns": null,
      "grid_template_rows": null,
      "height": null,
      "justify_content": null,
      "justify_items": null,
      "left": null,
      "margin": null,
      "max_height": null,
      "max_width": null,
      "min_height": null,
      "min_width": null,
      "object_fit": null,
      "object_position": null,
      "order": null,
      "overflow": null,
      "overflow_x": null,
      "overflow_y": null,
      "padding": null,
      "right": null,
      "top": null,
      "visibility": null,
      "width": null
     }
    },
    "175969d6ab8e4e289df7ad2817c856ab": {
     "model_module": "@jupyter-widgets/base",
     "model_module_version": "1.2.0",
     "model_name": "LayoutModel",
     "state": {
      "_model_module": "@jupyter-widgets/base",
      "_model_module_version": "1.2.0",
      "_model_name": "LayoutModel",
      "_view_count": null,
      "_view_module": "@jupyter-widgets/base",
      "_view_module_version": "1.2.0",
      "_view_name": "LayoutView",
      "align_content": null,
      "align_items": null,
      "align_self": null,
      "border": null,
      "bottom": null,
      "display": null,
      "flex": null,
      "flex_flow": null,
      "grid_area": null,
      "grid_auto_columns": null,
      "grid_auto_flow": null,
      "grid_auto_rows": null,
      "grid_column": null,
      "grid_gap": null,
      "grid_row": null,
      "grid_template_areas": null,
      "grid_template_columns": null,
      "grid_template_rows": null,
      "height": null,
      "justify_content": null,
      "justify_items": null,
      "left": null,
      "margin": null,
      "max_height": null,
      "max_width": null,
      "min_height": null,
      "min_width": null,
      "object_fit": null,
      "object_position": null,
      "order": null,
      "overflow": null,
      "overflow_x": null,
      "overflow_y": null,
      "padding": null,
      "right": null,
      "top": null,
      "visibility": null,
      "width": null
     }
    },
    "18f81a6c09fc46cca9b935c0353dc5c7": {
     "model_module": "@jupyter-widgets/controls",
     "model_module_version": "1.5.0",
     "model_name": "ProgressStyleModel",
     "state": {
      "_model_module": "@jupyter-widgets/controls",
      "_model_module_version": "1.5.0",
      "_model_name": "ProgressStyleModel",
      "_view_count": null,
      "_view_module": "@jupyter-widgets/base",
      "_view_module_version": "1.2.0",
      "_view_name": "StyleView",
      "bar_color": null,
      "description_width": ""
     }
    },
    "18fc0ca024684009a5d64e062c190e1b": {
     "model_module": "@jupyter-widgets/controls",
     "model_module_version": "1.5.0",
     "model_name": "DescriptionStyleModel",
     "state": {
      "_model_module": "@jupyter-widgets/controls",
      "_model_module_version": "1.5.0",
      "_model_name": "DescriptionStyleModel",
      "_view_count": null,
      "_view_module": "@jupyter-widgets/base",
      "_view_module_version": "1.2.0",
      "_view_name": "StyleView",
      "description_width": ""
     }
    },
    "1ce1d8d2cc34429aaa4f172e88a05cab": {
     "model_module": "@jupyter-widgets/controls",
     "model_module_version": "1.5.0",
     "model_name": "HBoxModel",
     "state": {
      "_dom_classes": [],
      "_model_module": "@jupyter-widgets/controls",
      "_model_module_version": "1.5.0",
      "_model_name": "HBoxModel",
      "_view_count": null,
      "_view_module": "@jupyter-widgets/controls",
      "_view_module_version": "1.5.0",
      "_view_name": "HBoxView",
      "box_style": "",
      "children": [
       "IPY_MODEL_57206c64b3304a579183cdb239f4e29b",
       "IPY_MODEL_c4437411051e4d9fae68a11fc3e09c9f",
       "IPY_MODEL_40550d027d254484b6ab45a27d988be5"
      ],
      "layout": "IPY_MODEL_4505fab565fc4df282c0d8e1f521f792"
     }
    },
    "1fe9bd930e2c4e88ba86551cc49ff2a5": {
     "model_module": "@jupyter-widgets/controls",
     "model_module_version": "1.5.0",
     "model_name": "DescriptionStyleModel",
     "state": {
      "_model_module": "@jupyter-widgets/controls",
      "_model_module_version": "1.5.0",
      "_model_name": "DescriptionStyleModel",
      "_view_count": null,
      "_view_module": "@jupyter-widgets/base",
      "_view_module_version": "1.2.0",
      "_view_name": "StyleView",
      "description_width": ""
     }
    },
    "2183ff84b0f145c593e96ff55b77e8ac": {
     "model_module": "@jupyter-widgets/controls",
     "model_module_version": "1.5.0",
     "model_name": "DescriptionStyleModel",
     "state": {
      "_model_module": "@jupyter-widgets/controls",
      "_model_module_version": "1.5.0",
      "_model_name": "DescriptionStyleModel",
      "_view_count": null,
      "_view_module": "@jupyter-widgets/base",
      "_view_module_version": "1.2.0",
      "_view_name": "StyleView",
      "description_width": ""
     }
    },
    "21947c165ae44fdcbe0d4836a4a1ad5f": {
     "model_module": "@jupyter-widgets/controls",
     "model_module_version": "1.5.0",
     "model_name": "HTMLModel",
     "state": {
      "_dom_classes": [],
      "_model_module": "@jupyter-widgets/controls",
      "_model_module_version": "1.5.0",
      "_model_name": "HTMLModel",
      "_view_count": null,
      "_view_module": "@jupyter-widgets/controls",
      "_view_module_version": "1.5.0",
      "_view_name": "HTMLView",
      "description": "",
      "description_tooltip": null,
      "layout": "IPY_MODEL_4737836567484859bbb25bef0b1e2934",
      "placeholder": "​",
      "style": "IPY_MODEL_2183ff84b0f145c593e96ff55b77e8ac",
      "value": " 583/583 [00:00&lt;00:00, 43.4kB/s]"
     }
    },
    "2228baed34d941e7a35d9ebf32a66636": {
     "model_module": "@jupyter-widgets/base",
     "model_module_version": "1.2.0",
     "model_name": "LayoutModel",
     "state": {
      "_model_module": "@jupyter-widgets/base",
      "_model_module_version": "1.2.0",
      "_model_name": "LayoutModel",
      "_view_count": null,
      "_view_module": "@jupyter-widgets/base",
      "_view_module_version": "1.2.0",
      "_view_name": "LayoutView",
      "align_content": null,
      "align_items": null,
      "align_self": null,
      "border": null,
      "bottom": null,
      "display": null,
      "flex": null,
      "flex_flow": null,
      "grid_area": null,
      "grid_auto_columns": null,
      "grid_auto_flow": null,
      "grid_auto_rows": null,
      "grid_column": null,
      "grid_gap": null,
      "grid_row": null,
      "grid_template_areas": null,
      "grid_template_columns": null,
      "grid_template_rows": null,
      "height": null,
      "justify_content": null,
      "justify_items": null,
      "left": null,
      "margin": null,
      "max_height": null,
      "max_width": null,
      "min_height": null,
      "min_width": null,
      "object_fit": null,
      "object_position": null,
      "order": null,
      "overflow": null,
      "overflow_x": null,
      "overflow_y": null,
      "padding": null,
      "right": null,
      "top": null,
      "visibility": null,
      "width": null
     }
    },
    "28d6cab5a26f4f7aac496784e57c958a": {
     "model_module": "@jupyter-widgets/base",
     "model_module_version": "1.2.0",
     "model_name": "LayoutModel",
     "state": {
      "_model_module": "@jupyter-widgets/base",
      "_model_module_version": "1.2.0",
      "_model_name": "LayoutModel",
      "_view_count": null,
      "_view_module": "@jupyter-widgets/base",
      "_view_module_version": "1.2.0",
      "_view_name": "LayoutView",
      "align_content": null,
      "align_items": null,
      "align_self": null,
      "border": null,
      "bottom": null,
      "display": null,
      "flex": null,
      "flex_flow": null,
      "grid_area": null,
      "grid_auto_columns": null,
      "grid_auto_flow": null,
      "grid_auto_rows": null,
      "grid_column": null,
      "grid_gap": null,
      "grid_row": null,
      "grid_template_areas": null,
      "grid_template_columns": null,
      "grid_template_rows": null,
      "height": null,
      "justify_content": null,
      "justify_items": null,
      "left": null,
      "margin": null,
      "max_height": null,
      "max_width": null,
      "min_height": null,
      "min_width": null,
      "object_fit": null,
      "object_position": null,
      "order": null,
      "overflow": null,
      "overflow_x": null,
      "overflow_y": null,
      "padding": null,
      "right": null,
      "top": null,
      "visibility": null,
      "width": null
     }
    },
    "299deacac61b4b7dac3d1f1b3ce7fe6e": {
     "model_module": "@jupyter-widgets/controls",
     "model_module_version": "1.5.0",
     "model_name": "DescriptionStyleModel",
     "state": {
      "_model_module": "@jupyter-widgets/controls",
      "_model_module_version": "1.5.0",
      "_model_name": "DescriptionStyleModel",
      "_view_count": null,
      "_view_module": "@jupyter-widgets/base",
      "_view_module_version": "1.2.0",
      "_view_name": "StyleView",
      "description_width": ""
     }
    },
    "2e0176f189c9458183d34c45db32ff1a": {
     "model_module": "@jupyter-widgets/controls",
     "model_module_version": "1.5.0",
     "model_name": "HBoxModel",
     "state": {
      "_dom_classes": [],
      "_model_module": "@jupyter-widgets/controls",
      "_model_module_version": "1.5.0",
      "_model_name": "HBoxModel",
      "_view_count": null,
      "_view_module": "@jupyter-widgets/controls",
      "_view_module_version": "1.5.0",
      "_view_name": "HBoxView",
      "box_style": "",
      "children": [
       "IPY_MODEL_497160633f234c84833bfb90d6f6c0fb",
       "IPY_MODEL_4af55a7ce77644c7ba5ceacfe9f80341",
       "IPY_MODEL_89592c6827ba41f38bad3cd0ac4b0bec"
      ],
      "layout": "IPY_MODEL_e97f09ccf7514cac88a1969dad482aae"
     }
    },
    "308c9ed1eb8f4e098309be4e2f03f429": {
     "model_module": "@jupyter-widgets/controls",
     "model_module_version": "1.5.0",
     "model_name": "FloatProgressModel",
     "state": {
      "_dom_classes": [],
      "_model_module": "@jupyter-widgets/controls",
      "_model_module_version": "1.5.0",
      "_model_name": "FloatProgressModel",
      "_view_count": null,
      "_view_module": "@jupyter-widgets/controls",
      "_view_module_version": "1.5.0",
      "_view_name": "ProgressView",
      "bar_style": "success",
      "description": "",
      "description_tooltip": null,
      "layout": "IPY_MODEL_d4386db3ce8f4b1c9b89679636df799a",
      "max": 456318,
      "min": 0,
      "orientation": "horizontal",
      "style": "IPY_MODEL_91cae23274464183961fe4f32a461d03",
      "value": 456318
     }
    },
    "33907ee28f9146dc84a783d08db8c84b": {
     "model_module": "@jupyter-widgets/controls",
     "model_module_version": "1.5.0",
     "model_name": "DescriptionStyleModel",
     "state": {
      "_model_module": "@jupyter-widgets/controls",
      "_model_module_version": "1.5.0",
      "_model_name": "DescriptionStyleModel",
      "_view_count": null,
      "_view_module": "@jupyter-widgets/base",
      "_view_module_version": "1.2.0",
      "_view_name": "StyleView",
      "description_width": ""
     }
    },
    "3446bde3d2fe4eef938d02277ad5f3f0": {
     "model_module": "@jupyter-widgets/controls",
     "model_module_version": "1.5.0",
     "model_name": "DescriptionStyleModel",
     "state": {
      "_model_module": "@jupyter-widgets/controls",
      "_model_module_version": "1.5.0",
      "_model_name": "DescriptionStyleModel",
      "_view_count": null,
      "_view_module": "@jupyter-widgets/base",
      "_view_module_version": "1.2.0",
      "_view_name": "StyleView",
      "description_width": ""
     }
    },
    "373d4379242446de82b946ffd8e49a22": {
     "model_module": "@jupyter-widgets/base",
     "model_module_version": "1.2.0",
     "model_name": "LayoutModel",
     "state": {
      "_model_module": "@jupyter-widgets/base",
      "_model_module_version": "1.2.0",
      "_model_name": "LayoutModel",
      "_view_count": null,
      "_view_module": "@jupyter-widgets/base",
      "_view_module_version": "1.2.0",
      "_view_name": "LayoutView",
      "align_content": null,
      "align_items": null,
      "align_self": null,
      "border": null,
      "bottom": null,
      "display": null,
      "flex": null,
      "flex_flow": null,
      "grid_area": null,
      "grid_auto_columns": null,
      "grid_auto_flow": null,
      "grid_auto_rows": null,
      "grid_column": null,
      "grid_gap": null,
      "grid_row": null,
      "grid_template_areas": null,
      "grid_template_columns": null,
      "grid_template_rows": null,
      "height": null,
      "justify_content": null,
      "justify_items": null,
      "left": null,
      "margin": null,
      "max_height": null,
      "max_width": null,
      "min_height": null,
      "min_width": null,
      "object_fit": null,
      "object_position": null,
      "order": null,
      "overflow": null,
      "overflow_x": null,
      "overflow_y": null,
      "padding": null,
      "right": null,
      "top": null,
      "visibility": null,
      "width": null
     }
    },
    "37850c50da414143bfa294dbc3446f55": {
     "model_module": "@jupyter-widgets/base",
     "model_module_version": "1.2.0",
     "model_name": "LayoutModel",
     "state": {
      "_model_module": "@jupyter-widgets/base",
      "_model_module_version": "1.2.0",
      "_model_name": "LayoutModel",
      "_view_count": null,
      "_view_module": "@jupyter-widgets/base",
      "_view_module_version": "1.2.0",
      "_view_name": "LayoutView",
      "align_content": null,
      "align_items": null,
      "align_self": null,
      "border": null,
      "bottom": null,
      "display": null,
      "flex": null,
      "flex_flow": null,
      "grid_area": null,
      "grid_auto_columns": null,
      "grid_auto_flow": null,
      "grid_auto_rows": null,
      "grid_column": null,
      "grid_gap": null,
      "grid_row": null,
      "grid_template_areas": null,
      "grid_template_columns": null,
      "grid_template_rows": null,
      "height": null,
      "justify_content": null,
      "justify_items": null,
      "left": null,
      "margin": null,
      "max_height": null,
      "max_width": null,
      "min_height": null,
      "min_width": null,
      "object_fit": null,
      "object_position": null,
      "order": null,
      "overflow": null,
      "overflow_x": null,
      "overflow_y": null,
      "padding": null,
      "right": null,
      "top": null,
      "visibility": null,
      "width": null
     }
    },
    "40550d027d254484b6ab45a27d988be5": {
     "model_module": "@jupyter-widgets/controls",
     "model_module_version": "1.5.0",
     "model_name": "HTMLModel",
     "state": {
      "_dom_classes": [],
      "_model_module": "@jupyter-widgets/controls",
      "_model_module_version": "1.5.0",
      "_model_name": "HTMLModel",
      "_view_count": null,
      "_view_module": "@jupyter-widgets/controls",
      "_view_module_version": "1.5.0",
      "_view_name": "HTMLView",
      "description": "",
      "description_tooltip": null,
      "layout": "IPY_MODEL_373d4379242446de82b946ffd8e49a22",
      "placeholder": "​",
      "style": "IPY_MODEL_299deacac61b4b7dac3d1f1b3ce7fe6e",
      "value": " 935/935 [00:00&lt;00:00, 19.7kB/s]"
     }
    },
    "41d22678b5674191a91d146e22073c7a": {
     "model_module": "@jupyter-widgets/controls",
     "model_module_version": "1.5.0",
     "model_name": "HBoxModel",
     "state": {
      "_dom_classes": [],
      "_model_module": "@jupyter-widgets/controls",
      "_model_module_version": "1.5.0",
      "_model_name": "HBoxModel",
      "_view_count": null,
      "_view_module": "@jupyter-widgets/controls",
      "_view_module_version": "1.5.0",
      "_view_name": "HBoxView",
      "box_style": "",
      "children": [
       "IPY_MODEL_c4ff20ab0c5e4e0a86f0ef786c92b4fd",
       "IPY_MODEL_505367dc35a14213bee4180534b6deb4",
       "IPY_MODEL_9f4a9107150b4948b98037896b898989"
      ],
      "layout": "IPY_MODEL_d1e805f57015484280efdb4f6af1c050"
     }
    },
    "4505fab565fc4df282c0d8e1f521f792": {
     "model_module": "@jupyter-widgets/base",
     "model_module_version": "1.2.0",
     "model_name": "LayoutModel",
     "state": {
      "_model_module": "@jupyter-widgets/base",
      "_model_module_version": "1.2.0",
      "_model_name": "LayoutModel",
      "_view_count": null,
      "_view_module": "@jupyter-widgets/base",
      "_view_module_version": "1.2.0",
      "_view_name": "LayoutView",
      "align_content": null,
      "align_items": null,
      "align_self": null,
      "border": null,
      "bottom": null,
      "display": null,
      "flex": null,
      "flex_flow": null,
      "grid_area": null,
      "grid_auto_columns": null,
      "grid_auto_flow": null,
      "grid_auto_rows": null,
      "grid_column": null,
      "grid_gap": null,
      "grid_row": null,
      "grid_template_areas": null,
      "grid_template_columns": null,
      "grid_template_rows": null,
      "height": null,
      "justify_content": null,
      "justify_items": null,
      "left": null,
      "margin": null,
      "max_height": null,
      "max_width": null,
      "min_height": null,
      "min_width": null,
      "object_fit": null,
      "object_position": null,
      "order": null,
      "overflow": null,
      "overflow_x": null,
      "overflow_y": null,
      "padding": null,
      "right": null,
      "top": null,
      "visibility": null,
      "width": null
     }
    },
    "4737836567484859bbb25bef0b1e2934": {
     "model_module": "@jupyter-widgets/base",
     "model_module_version": "1.2.0",
     "model_name": "LayoutModel",
     "state": {
      "_model_module": "@jupyter-widgets/base",
      "_model_module_version": "1.2.0",
      "_model_name": "LayoutModel",
      "_view_count": null,
      "_view_module": "@jupyter-widgets/base",
      "_view_module_version": "1.2.0",
      "_view_name": "LayoutView",
      "align_content": null,
      "align_items": null,
      "align_self": null,
      "border": null,
      "bottom": null,
      "display": null,
      "flex": null,
      "flex_flow": null,
      "grid_area": null,
      "grid_auto_columns": null,
      "grid_auto_flow": null,
      "grid_auto_rows": null,
      "grid_column": null,
      "grid_gap": null,
      "grid_row": null,
      "grid_template_areas": null,
      "grid_template_columns": null,
      "grid_template_rows": null,
      "height": null,
      "justify_content": null,
      "justify_items": null,
      "left": null,
      "margin": null,
      "max_height": null,
      "max_width": null,
      "min_height": null,
      "min_width": null,
      "object_fit": null,
      "object_position": null,
      "order": null,
      "overflow": null,
      "overflow_x": null,
      "overflow_y": null,
      "padding": null,
      "right": null,
      "top": null,
      "visibility": null,
      "width": null
     }
    },
    "4744e8ab6da6454982c0238801a13a3c": {
     "model_module": "@jupyter-widgets/controls",
     "model_module_version": "1.5.0",
     "model_name": "HBoxModel",
     "state": {
      "_dom_classes": [],
      "_model_module": "@jupyter-widgets/controls",
      "_model_module_version": "1.5.0",
      "_model_name": "HBoxModel",
      "_view_count": null,
      "_view_module": "@jupyter-widgets/controls",
      "_view_module_version": "1.5.0",
      "_view_name": "HBoxView",
      "box_style": "",
      "children": [
       "IPY_MODEL_783db5a03b8f4e36a3099b926352b6f1",
       "IPY_MODEL_308c9ed1eb8f4e098309be4e2f03f429",
       "IPY_MODEL_7e00c6b49630474aac482e7b3f546c21"
      ],
      "layout": "IPY_MODEL_f3509c617f8240c98d5f44d2be44404a"
     }
    },
    "4786983ecde54f5c9d497c84da3b6181": {
     "model_module": "@jupyter-widgets/base",
     "model_module_version": "1.2.0",
     "model_name": "LayoutModel",
     "state": {
      "_model_module": "@jupyter-widgets/base",
      "_model_module_version": "1.2.0",
      "_model_name": "LayoutModel",
      "_view_count": null,
      "_view_module": "@jupyter-widgets/base",
      "_view_module_version": "1.2.0",
      "_view_name": "LayoutView",
      "align_content": null,
      "align_items": null,
      "align_self": null,
      "border": null,
      "bottom": null,
      "display": null,
      "flex": null,
      "flex_flow": null,
      "grid_area": null,
      "grid_auto_columns": null,
      "grid_auto_flow": null,
      "grid_auto_rows": null,
      "grid_column": null,
      "grid_gap": null,
      "grid_row": null,
      "grid_template_areas": null,
      "grid_template_columns": null,
      "grid_template_rows": null,
      "height": null,
      "justify_content": null,
      "justify_items": null,
      "left": null,
      "margin": null,
      "max_height": null,
      "max_width": null,
      "min_height": null,
      "min_width": null,
      "object_fit": null,
      "object_position": null,
      "order": null,
      "overflow": null,
      "overflow_x": null,
      "overflow_y": null,
      "padding": null,
      "right": null,
      "top": null,
      "visibility": null,
      "width": null
     }
    },
    "497160633f234c84833bfb90d6f6c0fb": {
     "model_module": "@jupyter-widgets/controls",
     "model_module_version": "1.5.0",
     "model_name": "HTMLModel",
     "state": {
      "_dom_classes": [],
      "_model_module": "@jupyter-widgets/controls",
      "_model_module_version": "1.5.0",
      "_model_name": "HTMLModel",
      "_view_count": null,
      "_view_module": "@jupyter-widgets/controls",
      "_view_module_version": "1.5.0",
      "_view_name": "HTMLView",
      "description": "",
      "description_tooltip": null,
      "layout": "IPY_MODEL_ab9aabf437034f0ebda4dd222290b4d6",
      "placeholder": "​",
      "style": "IPY_MODEL_e4fa0d49ef594cfaaf95b3e2f7ebdf36",
      "value": "model.safetensors: 100%"
     }
    },
    "4af55a7ce77644c7ba5ceacfe9f80341": {
     "model_module": "@jupyter-widgets/controls",
     "model_module_version": "1.5.0",
     "model_name": "FloatProgressModel",
     "state": {
      "_dom_classes": [],
      "_model_module": "@jupyter-widgets/controls",
      "_model_module_version": "1.5.0",
      "_model_name": "FloatProgressModel",
      "_view_count": null,
      "_view_module": "@jupyter-widgets/controls",
      "_view_module_version": "1.5.0",
      "_view_name": "ProgressView",
      "bar_style": "success",
      "description": "",
      "description_tooltip": null,
      "layout": "IPY_MODEL_28d6cab5a26f4f7aac496784e57c958a",
      "max": 497774208,
      "min": 0,
      "orientation": "horizontal",
      "style": "IPY_MODEL_f2d8d067732d4fdda98a56a9255137a2",
      "value": 497774208
     }
    },
    "505367dc35a14213bee4180534b6deb4": {
     "model_module": "@jupyter-widgets/controls",
     "model_module_version": "1.5.0",
     "model_name": "FloatProgressModel",
     "state": {
      "_dom_classes": [],
      "_model_module": "@jupyter-widgets/controls",
      "_model_module_version": "1.5.0",
      "_model_name": "FloatProgressModel",
      "_view_count": null,
      "_view_module": "@jupyter-widgets/controls",
      "_view_module_version": "1.5.0",
      "_view_name": "ProgressView",
      "bar_style": "success",
      "description": "",
      "description_tooltip": null,
      "layout": "IPY_MODEL_828d341c19e444869feeefd2dd58254c",
      "max": 526,
      "min": 0,
      "orientation": "horizontal",
      "style": "IPY_MODEL_73fcd2eb52da446cbd707a73338298cd",
      "value": 526
     }
    },
    "507e882984d3421fa3e298ffc0949571": {
     "model_module": "@jupyter-widgets/base",
     "model_module_version": "1.2.0",
     "model_name": "LayoutModel",
     "state": {
      "_model_module": "@jupyter-widgets/base",
      "_model_module_version": "1.2.0",
      "_model_name": "LayoutModel",
      "_view_count": null,
      "_view_module": "@jupyter-widgets/base",
      "_view_module_version": "1.2.0",
      "_view_name": "LayoutView",
      "align_content": null,
      "align_items": null,
      "align_self": null,
      "border": null,
      "bottom": null,
      "display": null,
      "flex": null,
      "flex_flow": null,
      "grid_area": null,
      "grid_auto_columns": null,
      "grid_auto_flow": null,
      "grid_auto_rows": null,
      "grid_column": null,
      "grid_gap": null,
      "grid_row": null,
      "grid_template_areas": null,
      "grid_template_columns": null,
      "grid_template_rows": null,
      "height": null,
      "justify_content": null,
      "justify_items": null,
      "left": null,
      "margin": null,
      "max_height": null,
      "max_width": null,
      "min_height": null,
      "min_width": null,
      "object_fit": null,
      "object_position": null,
      "order": null,
      "overflow": null,
      "overflow_x": null,
      "overflow_y": null,
      "padding": null,
      "right": null,
      "top": null,
      "visibility": null,
      "width": null
     }
    },
    "516e316ae8e94da88a3d96ff6519b5a9": {
     "model_module": "@jupyter-widgets/controls",
     "model_module_version": "1.5.0",
     "model_name": "FloatProgressModel",
     "state": {
      "_dom_classes": [],
      "_model_module": "@jupyter-widgets/controls",
      "_model_module_version": "1.5.0",
      "_model_name": "FloatProgressModel",
      "_view_count": null,
      "_view_module": "@jupyter-widgets/controls",
      "_view_module_version": "1.5.0",
      "_view_name": "ProgressView",
      "bar_style": "success",
      "description": "",
      "description_tooltip": null,
      "layout": "IPY_MODEL_507e882984d3421fa3e298ffc0949571",
      "max": 119,
      "min": 0,
      "orientation": "horizontal",
      "style": "IPY_MODEL_5b867af8d02c45bcaebcd64dfe37ece9",
      "value": 119
     }
    },
    "531ffee5d0e1466082994d73b4ac1fe8": {
     "model_module": "@jupyter-widgets/base",
     "model_module_version": "1.2.0",
     "model_name": "LayoutModel",
     "state": {
      "_model_module": "@jupyter-widgets/base",
      "_model_module_version": "1.2.0",
      "_model_name": "LayoutModel",
      "_view_count": null,
      "_view_module": "@jupyter-widgets/base",
      "_view_module_version": "1.2.0",
      "_view_name": "LayoutView",
      "align_content": null,
      "align_items": null,
      "align_self": null,
      "border": null,
      "bottom": null,
      "display": null,
      "flex": null,
      "flex_flow": null,
      "grid_area": null,
      "grid_auto_columns": null,
      "grid_auto_flow": null,
      "grid_auto_rows": null,
      "grid_column": null,
      "grid_gap": null,
      "grid_row": null,
      "grid_template_areas": null,
      "grid_template_columns": null,
      "grid_template_rows": null,
      "height": null,
      "justify_content": null,
      "justify_items": null,
      "left": null,
      "margin": null,
      "max_height": null,
      "max_width": null,
      "min_height": null,
      "min_width": null,
      "object_fit": null,
      "object_position": null,
      "order": null,
      "overflow": null,
      "overflow_x": null,
      "overflow_y": null,
      "padding": null,
      "right": null,
      "top": null,
      "visibility": null,
      "width": null
     }
    },
    "532f03e22f564579be55053804f81081": {
     "model_module": "@jupyter-widgets/controls",
     "model_module_version": "1.5.0",
     "model_name": "HBoxModel",
     "state": {
      "_dom_classes": [],
      "_model_module": "@jupyter-widgets/controls",
      "_model_module_version": "1.5.0",
      "_model_name": "HBoxModel",
      "_view_count": null,
      "_view_module": "@jupyter-widgets/controls",
      "_view_module_version": "1.5.0",
      "_view_name": "HBoxView",
      "box_style": "",
      "children": [
       "IPY_MODEL_d9f0542fb2044ae68d5217a6e289bc5b",
       "IPY_MODEL_09301fc057554259ac0f37aacb757f8c",
       "IPY_MODEL_bc5ec7d2c9fa4b33b8e5c56114f147b2"
      ],
      "layout": "IPY_MODEL_f95603a90f714f1a87fe69bf8f161add"
     }
    },
    "53f38402648948d492271b7f3b11c662": {
     "model_module": "@jupyter-widgets/controls",
     "model_module_version": "1.5.0",
     "model_name": "DescriptionStyleModel",
     "state": {
      "_model_module": "@jupyter-widgets/controls",
      "_model_module_version": "1.5.0",
      "_model_name": "DescriptionStyleModel",
      "_view_count": null,
      "_view_module": "@jupyter-widgets/base",
      "_view_module_version": "1.2.0",
      "_view_name": "StyleView",
      "description_width": ""
     }
    },
    "557f58a09c60423c94f69909dac4d43d": {
     "model_module": "@jupyter-widgets/controls",
     "model_module_version": "1.5.0",
     "model_name": "DescriptionStyleModel",
     "state": {
      "_model_module": "@jupyter-widgets/controls",
      "_model_module_version": "1.5.0",
      "_model_name": "DescriptionStyleModel",
      "_view_count": null,
      "_view_module": "@jupyter-widgets/base",
      "_view_module_version": "1.2.0",
      "_view_name": "StyleView",
      "description_width": ""
     }
    },
    "57206c64b3304a579183cdb239f4e29b": {
     "model_module": "@jupyter-widgets/controls",
     "model_module_version": "1.5.0",
     "model_name": "HTMLModel",
     "state": {
      "_dom_classes": [],
      "_model_module": "@jupyter-widgets/controls",
      "_model_module_version": "1.5.0",
      "_model_name": "HTMLModel",
      "_view_count": null,
      "_view_module": "@jupyter-widgets/controls",
      "_view_module_version": "1.5.0",
      "_view_name": "HTMLView",
      "description": "",
      "description_tooltip": null,
      "layout": "IPY_MODEL_c86c91c30c9946f6a6a843cba2f4b584",
      "placeholder": "​",
      "style": "IPY_MODEL_741ef36499ad4389a273a65a1a1f4888",
      "value": "config.json: 100%"
     }
    },
    "5b867af8d02c45bcaebcd64dfe37ece9": {
     "model_module": "@jupyter-widgets/controls",
     "model_module_version": "1.5.0",
     "model_name": "ProgressStyleModel",
     "state": {
      "_model_module": "@jupyter-widgets/controls",
      "_model_module_version": "1.5.0",
      "_model_name": "ProgressStyleModel",
      "_view_count": null,
      "_view_module": "@jupyter-widgets/base",
      "_view_module_version": "1.2.0",
      "_view_name": "StyleView",
      "bar_color": null,
      "description_width": ""
     }
    },
    "68390f9ce9d54451a5a04c5f89012d28": {
     "model_module": "@jupyter-widgets/base",
     "model_module_version": "1.2.0",
     "model_name": "LayoutModel",
     "state": {
      "_model_module": "@jupyter-widgets/base",
      "_model_module_version": "1.2.0",
      "_model_name": "LayoutModel",
      "_view_count": null,
      "_view_module": "@jupyter-widgets/base",
      "_view_module_version": "1.2.0",
      "_view_name": "LayoutView",
      "align_content": null,
      "align_items": null,
      "align_self": null,
      "border": null,
      "bottom": null,
      "display": null,
      "flex": null,
      "flex_flow": null,
      "grid_area": null,
      "grid_auto_columns": null,
      "grid_auto_flow": null,
      "grid_auto_rows": null,
      "grid_column": null,
      "grid_gap": null,
      "grid_row": null,
      "grid_template_areas": null,
      "grid_template_columns": null,
      "grid_template_rows": null,
      "height": null,
      "justify_content": null,
      "justify_items": null,
      "left": null,
      "margin": null,
      "max_height": null,
      "max_width": null,
      "min_height": null,
      "min_width": null,
      "object_fit": null,
      "object_position": null,
      "order": null,
      "overflow": null,
      "overflow_x": null,
      "overflow_y": null,
      "padding": null,
      "right": null,
      "top": null,
      "visibility": null,
      "width": null
     }
    },
    "690f518dbd71491d9732ca646ecbed44": {
     "model_module": "@jupyter-widgets/controls",
     "model_module_version": "1.5.0",
     "model_name": "FloatProgressModel",
     "state": {
      "_dom_classes": [],
      "_model_module": "@jupyter-widgets/controls",
      "_model_module_version": "1.5.0",
      "_model_name": "FloatProgressModel",
      "_view_count": null,
      "_view_module": "@jupyter-widgets/controls",
      "_view_module_version": "1.5.0",
      "_view_name": "ProgressView",
      "bar_style": "success",
      "description": "",
      "description_tooltip": null,
      "layout": "IPY_MODEL_71f8e9f30bcc4412a7f400f3c785e953",
      "max": 999186,
      "min": 0,
      "orientation": "horizontal",
      "style": "IPY_MODEL_e9846aa6792c473daa77293b289e5ec7",
      "value": 999186
     }
    },
    "6988a5909d5147ffa9ef163567c6123e": {
     "model_module": "@jupyter-widgets/controls",
     "model_module_version": "1.5.0",
     "model_name": "HTMLModel",
     "state": {
      "_dom_classes": [],
      "_model_module": "@jupyter-widgets/controls",
      "_model_module_version": "1.5.0",
      "_model_name": "HTMLModel",
      "_view_count": null,
      "_view_module": "@jupyter-widgets/controls",
      "_view_module_version": "1.5.0",
      "_view_name": "HTMLView",
      "description": "",
      "description_tooltip": null,
      "layout": "IPY_MODEL_bbeed7470b5a4414b183e12f3c4ad12e",
      "placeholder": "​",
      "style": "IPY_MODEL_163b954667dc41c9a304de2c4eae0f38",
      "value": " 999k/999k [00:00&lt;00:00, 5.16MB/s]"
     }
    },
    "6c97ae1380e44d0ba17d371556a89cc7": {
     "model_module": "@jupyter-widgets/controls",
     "model_module_version": "1.5.0",
     "model_name": "DescriptionStyleModel",
     "state": {
      "_model_module": "@jupyter-widgets/controls",
      "_model_module_version": "1.5.0",
      "_model_name": "DescriptionStyleModel",
      "_view_count": null,
      "_view_module": "@jupyter-widgets/base",
      "_view_module_version": "1.2.0",
      "_view_name": "StyleView",
      "description_width": ""
     }
    },
    "6e0a31e9ee184bd68806e3bf1939acd9": {
     "model_module": "@jupyter-widgets/controls",
     "model_module_version": "1.5.0",
     "model_name": "ProgressStyleModel",
     "state": {
      "_model_module": "@jupyter-widgets/controls",
      "_model_module_version": "1.5.0",
      "_model_name": "ProgressStyleModel",
      "_view_count": null,
      "_view_module": "@jupyter-widgets/base",
      "_view_module_version": "1.2.0",
      "_view_name": "StyleView",
      "bar_color": null,
      "description_width": ""
     }
    },
    "707e6b27838946ea83123618efec0259": {
     "model_module": "@jupyter-widgets/base",
     "model_module_version": "1.2.0",
     "model_name": "LayoutModel",
     "state": {
      "_model_module": "@jupyter-widgets/base",
      "_model_module_version": "1.2.0",
      "_model_name": "LayoutModel",
      "_view_count": null,
      "_view_module": "@jupyter-widgets/base",
      "_view_module_version": "1.2.0",
      "_view_name": "LayoutView",
      "align_content": null,
      "align_items": null,
      "align_self": null,
      "border": null,
      "bottom": null,
      "display": null,
      "flex": null,
      "flex_flow": null,
      "grid_area": null,
      "grid_auto_columns": null,
      "grid_auto_flow": null,
      "grid_auto_rows": null,
      "grid_column": null,
      "grid_gap": null,
      "grid_row": null,
      "grid_template_areas": null,
      "grid_template_columns": null,
      "grid_template_rows": null,
      "height": null,
      "justify_content": null,
      "justify_items": null,
      "left": null,
      "margin": null,
      "max_height": null,
      "max_width": null,
      "min_height": null,
      "min_width": null,
      "object_fit": null,
      "object_position": null,
      "order": null,
      "overflow": null,
      "overflow_x": null,
      "overflow_y": null,
      "padding": null,
      "right": null,
      "top": null,
      "visibility": null,
      "width": null
     }
    },
    "71f8e9f30bcc4412a7f400f3c785e953": {
     "model_module": "@jupyter-widgets/base",
     "model_module_version": "1.2.0",
     "model_name": "LayoutModel",
     "state": {
      "_model_module": "@jupyter-widgets/base",
      "_model_module_version": "1.2.0",
      "_model_name": "LayoutModel",
      "_view_count": null,
      "_view_module": "@jupyter-widgets/base",
      "_view_module_version": "1.2.0",
      "_view_name": "LayoutView",
      "align_content": null,
      "align_items": null,
      "align_self": null,
      "border": null,
      "bottom": null,
      "display": null,
      "flex": null,
      "flex_flow": null,
      "grid_area": null,
      "grid_auto_columns": null,
      "grid_auto_flow": null,
      "grid_auto_rows": null,
      "grid_column": null,
      "grid_gap": null,
      "grid_row": null,
      "grid_template_areas": null,
      "grid_template_columns": null,
      "grid_template_rows": null,
      "height": null,
      "justify_content": null,
      "justify_items": null,
      "left": null,
      "margin": null,
      "max_height": null,
      "max_width": null,
      "min_height": null,
      "min_width": null,
      "object_fit": null,
      "object_position": null,
      "order": null,
      "overflow": null,
      "overflow_x": null,
      "overflow_y": null,
      "padding": null,
      "right": null,
      "top": null,
      "visibility": null,
      "width": null
     }
    },
    "73fcd2eb52da446cbd707a73338298cd": {
     "model_module": "@jupyter-widgets/controls",
     "model_module_version": "1.5.0",
     "model_name": "ProgressStyleModel",
     "state": {
      "_model_module": "@jupyter-widgets/controls",
      "_model_module_version": "1.5.0",
      "_model_name": "ProgressStyleModel",
      "_view_count": null,
      "_view_module": "@jupyter-widgets/base",
      "_view_module_version": "1.2.0",
      "_view_name": "StyleView",
      "bar_color": null,
      "description_width": ""
     }
    },
    "741ef36499ad4389a273a65a1a1f4888": {
     "model_module": "@jupyter-widgets/controls",
     "model_module_version": "1.5.0",
     "model_name": "DescriptionStyleModel",
     "state": {
      "_model_module": "@jupyter-widgets/controls",
      "_model_module_version": "1.5.0",
      "_model_name": "DescriptionStyleModel",
      "_view_count": null,
      "_view_module": "@jupyter-widgets/base",
      "_view_module_version": "1.2.0",
      "_view_name": "StyleView",
      "description_width": ""
     }
    },
    "783db5a03b8f4e36a3099b926352b6f1": {
     "model_module": "@jupyter-widgets/controls",
     "model_module_version": "1.5.0",
     "model_name": "HTMLModel",
     "state": {
      "_dom_classes": [],
      "_model_module": "@jupyter-widgets/controls",
      "_model_module_version": "1.5.0",
      "_model_name": "HTMLModel",
      "_view_count": null,
      "_view_module": "@jupyter-widgets/controls",
      "_view_module_version": "1.5.0",
      "_view_name": "HTMLView",
      "description": "",
      "description_tooltip": null,
      "layout": "IPY_MODEL_68390f9ce9d54451a5a04c5f89012d28",
      "placeholder": "​",
      "style": "IPY_MODEL_0d0e3530206149d38911c7cb2667855c",
      "value": "merges.txt: 100%"
     }
    },
    "7e00c6b49630474aac482e7b3f546c21": {
     "model_module": "@jupyter-widgets/controls",
     "model_module_version": "1.5.0",
     "model_name": "HTMLModel",
     "state": {
      "_dom_classes": [],
      "_model_module": "@jupyter-widgets/controls",
      "_model_module_version": "1.5.0",
      "_model_name": "HTMLModel",
      "_view_count": null,
      "_view_module": "@jupyter-widgets/controls",
      "_view_module_version": "1.5.0",
      "_view_name": "HTMLView",
      "description": "",
      "description_tooltip": null,
      "layout": "IPY_MODEL_dda8430d17e44e97a95a012b9dac4f16",
      "placeholder": "​",
      "style": "IPY_MODEL_53f38402648948d492271b7f3b11c662",
      "value": " 456k/456k [00:00&lt;00:00, 2.32MB/s]"
     }
    },
    "828d341c19e444869feeefd2dd58254c": {
     "model_module": "@jupyter-widgets/base",
     "model_module_version": "1.2.0",
     "model_name": "LayoutModel",
     "state": {
      "_model_module": "@jupyter-widgets/base",
      "_model_module_version": "1.2.0",
      "_model_name": "LayoutModel",
      "_view_count": null,
      "_view_module": "@jupyter-widgets/base",
      "_view_module_version": "1.2.0",
      "_view_name": "LayoutView",
      "align_content": null,
      "align_items": null,
      "align_self": null,
      "border": null,
      "bottom": null,
      "display": null,
      "flex": null,
      "flex_flow": null,
      "grid_area": null,
      "grid_auto_columns": null,
      "grid_auto_flow": null,
      "grid_auto_rows": null,
      "grid_column": null,
      "grid_gap": null,
      "grid_row": null,
      "grid_template_areas": null,
      "grid_template_columns": null,
      "grid_template_rows": null,
      "height": null,
      "justify_content": null,
      "justify_items": null,
      "left": null,
      "margin": null,
      "max_height": null,
      "max_width": null,
      "min_height": null,
      "min_width": null,
      "object_fit": null,
      "object_position": null,
      "order": null,
      "overflow": null,
      "overflow_x": null,
      "overflow_y": null,
      "padding": null,
      "right": null,
      "top": null,
      "visibility": null,
      "width": null
     }
    },
    "850107cdc97e4f7da9a0c298778ce0b9": {
     "model_module": "@jupyter-widgets/controls",
     "model_module_version": "1.5.0",
     "model_name": "ProgressStyleModel",
     "state": {
      "_model_module": "@jupyter-widgets/controls",
      "_model_module_version": "1.5.0",
      "_model_name": "ProgressStyleModel",
      "_view_count": null,
      "_view_module": "@jupyter-widgets/base",
      "_view_module_version": "1.2.0",
      "_view_name": "StyleView",
      "bar_color": null,
      "description_width": ""
     }
    },
    "892f30f60aa242c5ad8cc2bc5579e77d": {
     "model_module": "@jupyter-widgets/controls",
     "model_module_version": "1.5.0",
     "model_name": "HTMLModel",
     "state": {
      "_dom_classes": [],
      "_model_module": "@jupyter-widgets/controls",
      "_model_module_version": "1.5.0",
      "_model_name": "HTMLModel",
      "_view_count": null,
      "_view_module": "@jupyter-widgets/controls",
      "_view_module_version": "1.5.0",
      "_view_name": "HTMLView",
      "description": "",
      "description_tooltip": null,
      "layout": "IPY_MODEL_b9611ba70ec848169f4d10de2684ff22",
      "placeholder": "​",
      "style": "IPY_MODEL_0ce739466eed42dd852b2fb438608f61",
      "value": "vocab.json: 100%"
     }
    },
    "89592c6827ba41f38bad3cd0ac4b0bec": {
     "model_module": "@jupyter-widgets/controls",
     "model_module_version": "1.5.0",
     "model_name": "HTMLModel",
     "state": {
      "_dom_classes": [],
      "_model_module": "@jupyter-widgets/controls",
      "_model_module_version": "1.5.0",
      "_model_name": "HTMLModel",
      "_view_count": null,
      "_view_module": "@jupyter-widgets/controls",
      "_view_module_version": "1.5.0",
      "_view_name": "HTMLView",
      "description": "",
      "description_tooltip": null,
      "layout": "IPY_MODEL_98527ccc139443e59dd1d38cef39a6a0",
      "placeholder": "​",
      "style": "IPY_MODEL_18fc0ca024684009a5d64e062c190e1b",
      "value": " 498M/498M [00:11&lt;00:00, 42.8MB/s]"
     }
    },
    "8d0956213ef04fc9a7a3d8cde7bb6f2f": {
     "model_module": "@jupyter-widgets/base",
     "model_module_version": "1.2.0",
     "model_name": "LayoutModel",
     "state": {
      "_model_module": "@jupyter-widgets/base",
      "_model_module_version": "1.2.0",
      "_model_name": "LayoutModel",
      "_view_count": null,
      "_view_module": "@jupyter-widgets/base",
      "_view_module_version": "1.2.0",
      "_view_name": "LayoutView",
      "align_content": null,
      "align_items": null,
      "align_self": null,
      "border": null,
      "bottom": null,
      "display": null,
      "flex": null,
      "flex_flow": null,
      "grid_area": null,
      "grid_auto_columns": null,
      "grid_auto_flow": null,
      "grid_auto_rows": null,
      "grid_column": null,
      "grid_gap": null,
      "grid_row": null,
      "grid_template_areas": null,
      "grid_template_columns": null,
      "grid_template_rows": null,
      "height": null,
      "justify_content": null,
      "justify_items": null,
      "left": null,
      "margin": null,
      "max_height": null,
      "max_width": null,
      "min_height": null,
      "min_width": null,
      "object_fit": null,
      "object_position": null,
      "order": null,
      "overflow": null,
      "overflow_x": null,
      "overflow_y": null,
      "padding": null,
      "right": null,
      "top": null,
      "visibility": null,
      "width": null
     }
    },
    "912887ca5e9e492ca392f26f0e96ec9a": {
     "model_module": "@jupyter-widgets/base",
     "model_module_version": "1.2.0",
     "model_name": "LayoutModel",
     "state": {
      "_model_module": "@jupyter-widgets/base",
      "_model_module_version": "1.2.0",
      "_model_name": "LayoutModel",
      "_view_count": null,
      "_view_module": "@jupyter-widgets/base",
      "_view_module_version": "1.2.0",
      "_view_name": "LayoutView",
      "align_content": null,
      "align_items": null,
      "align_self": null,
      "border": null,
      "bottom": null,
      "display": null,
      "flex": null,
      "flex_flow": null,
      "grid_area": null,
      "grid_auto_columns": null,
      "grid_auto_flow": null,
      "grid_auto_rows": null,
      "grid_column": null,
      "grid_gap": null,
      "grid_row": null,
      "grid_template_areas": null,
      "grid_template_columns": null,
      "grid_template_rows": null,
      "height": null,
      "justify_content": null,
      "justify_items": null,
      "left": null,
      "margin": null,
      "max_height": null,
      "max_width": null,
      "min_height": null,
      "min_width": null,
      "object_fit": null,
      "object_position": null,
      "order": null,
      "overflow": null,
      "overflow_x": null,
      "overflow_y": null,
      "padding": null,
      "right": null,
      "top": null,
      "visibility": null,
      "width": null
     }
    },
    "91cae23274464183961fe4f32a461d03": {
     "model_module": "@jupyter-widgets/controls",
     "model_module_version": "1.5.0",
     "model_name": "ProgressStyleModel",
     "state": {
      "_model_module": "@jupyter-widgets/controls",
      "_model_module_version": "1.5.0",
      "_model_name": "ProgressStyleModel",
      "_view_count": null,
      "_view_module": "@jupyter-widgets/base",
      "_view_module_version": "1.2.0",
      "_view_name": "StyleView",
      "bar_color": null,
      "description_width": ""
     }
    },
    "96ef9d4cb43342faa9274bbec4507168": {
     "model_module": "@jupyter-widgets/base",
     "model_module_version": "1.2.0",
     "model_name": "LayoutModel",
     "state": {
      "_model_module": "@jupyter-widgets/base",
      "_model_module_version": "1.2.0",
      "_model_name": "LayoutModel",
      "_view_count": null,
      "_view_module": "@jupyter-widgets/base",
      "_view_module_version": "1.2.0",
      "_view_name": "LayoutView",
      "align_content": null,
      "align_items": null,
      "align_self": null,
      "border": null,
      "bottom": null,
      "display": null,
      "flex": null,
      "flex_flow": null,
      "grid_area": null,
      "grid_auto_columns": null,
      "grid_auto_flow": null,
      "grid_auto_rows": null,
      "grid_column": null,
      "grid_gap": null,
      "grid_row": null,
      "grid_template_areas": null,
      "grid_template_columns": null,
      "grid_template_rows": null,
      "height": null,
      "justify_content": null,
      "justify_items": null,
      "left": null,
      "margin": null,
      "max_height": null,
      "max_width": null,
      "min_height": null,
      "min_width": null,
      "object_fit": null,
      "object_position": null,
      "order": null,
      "overflow": null,
      "overflow_x": null,
      "overflow_y": null,
      "padding": null,
      "right": null,
      "top": null,
      "visibility": null,
      "width": null
     }
    },
    "98527ccc139443e59dd1d38cef39a6a0": {
     "model_module": "@jupyter-widgets/base",
     "model_module_version": "1.2.0",
     "model_name": "LayoutModel",
     "state": {
      "_model_module": "@jupyter-widgets/base",
      "_model_module_version": "1.2.0",
      "_model_name": "LayoutModel",
      "_view_count": null,
      "_view_module": "@jupyter-widgets/base",
      "_view_module_version": "1.2.0",
      "_view_name": "LayoutView",
      "align_content": null,
      "align_items": null,
      "align_self": null,
      "border": null,
      "bottom": null,
      "display": null,
      "flex": null,
      "flex_flow": null,
      "grid_area": null,
      "grid_auto_columns": null,
      "grid_auto_flow": null,
      "grid_auto_rows": null,
      "grid_column": null,
      "grid_gap": null,
      "grid_row": null,
      "grid_template_areas": null,
      "grid_template_columns": null,
      "grid_template_rows": null,
      "height": null,
      "justify_content": null,
      "justify_items": null,
      "left": null,
      "margin": null,
      "max_height": null,
      "max_width": null,
      "min_height": null,
      "min_width": null,
      "object_fit": null,
      "object_position": null,
      "order": null,
      "overflow": null,
      "overflow_x": null,
      "overflow_y": null,
      "padding": null,
      "right": null,
      "top": null,
      "visibility": null,
      "width": null
     }
    },
    "98d74e788d0045cba05544a9904f4222": {
     "model_module": "@jupyter-widgets/base",
     "model_module_version": "1.2.0",
     "model_name": "LayoutModel",
     "state": {
      "_model_module": "@jupyter-widgets/base",
      "_model_module_version": "1.2.0",
      "_model_name": "LayoutModel",
      "_view_count": null,
      "_view_module": "@jupyter-widgets/base",
      "_view_module_version": "1.2.0",
      "_view_name": "LayoutView",
      "align_content": null,
      "align_items": null,
      "align_self": null,
      "border": null,
      "bottom": null,
      "display": null,
      "flex": null,
      "flex_flow": null,
      "grid_area": null,
      "grid_auto_columns": null,
      "grid_auto_flow": null,
      "grid_auto_rows": null,
      "grid_column": null,
      "grid_gap": null,
      "grid_row": null,
      "grid_template_areas": null,
      "grid_template_columns": null,
      "grid_template_rows": null,
      "height": null,
      "justify_content": null,
      "justify_items": null,
      "left": null,
      "margin": null,
      "max_height": null,
      "max_width": null,
      "min_height": null,
      "min_width": null,
      "object_fit": null,
      "object_position": null,
      "order": null,
      "overflow": null,
      "overflow_x": null,
      "overflow_y": null,
      "padding": null,
      "right": null,
      "top": null,
      "visibility": null,
      "width": null
     }
    },
    "9aaedee8e6734e43b4646e7a35ec4aee": {
     "model_module": "@jupyter-widgets/controls",
     "model_module_version": "1.5.0",
     "model_name": "HTMLModel",
     "state": {
      "_dom_classes": [],
      "_model_module": "@jupyter-widgets/controls",
      "_model_module_version": "1.5.0",
      "_model_name": "HTMLModel",
      "_view_count": null,
      "_view_module": "@jupyter-widgets/controls",
      "_view_module_version": "1.5.0",
      "_view_name": "HTMLView",
      "description": "",
      "description_tooltip": null,
      "layout": "IPY_MODEL_98d74e788d0045cba05544a9904f4222",
      "placeholder": "​",
      "style": "IPY_MODEL_33907ee28f9146dc84a783d08db8c84b",
      "value": "special_tokens_map.json: 100%"
     }
    },
    "9f4a9107150b4948b98037896b898989": {
     "model_module": "@jupyter-widgets/controls",
     "model_module_version": "1.5.0",
     "model_name": "HTMLModel",
     "state": {
      "_dom_classes": [],
      "_model_module": "@jupyter-widgets/controls",
      "_model_module_version": "1.5.0",
      "_model_name": "HTMLModel",
      "_view_count": null,
      "_view_module": "@jupyter-widgets/controls",
      "_view_module_version": "1.5.0",
      "_view_name": "HTMLView",
      "description": "",
      "description_tooltip": null,
      "layout": "IPY_MODEL_f26b6def5f644f67a947977b626144bd",
      "placeholder": "​",
      "style": "IPY_MODEL_d7fb9a095b294eca8d84fb87a0d75f8d",
      "value": " 526/526 [00:00&lt;00:00, 12.1kB/s]"
     }
    },
    "ab9aabf437034f0ebda4dd222290b4d6": {
     "model_module": "@jupyter-widgets/base",
     "model_module_version": "1.2.0",
     "model_name": "LayoutModel",
     "state": {
      "_model_module": "@jupyter-widgets/base",
      "_model_module_version": "1.2.0",
      "_model_name": "LayoutModel",
      "_view_count": null,
      "_view_module": "@jupyter-widgets/base",
      "_view_module_version": "1.2.0",
      "_view_name": "LayoutView",
      "align_content": null,
      "align_items": null,
      "align_self": null,
      "border": null,
      "bottom": null,
      "display": null,
      "flex": null,
      "flex_flow": null,
      "grid_area": null,
      "grid_auto_columns": null,
      "grid_auto_flow": null,
      "grid_auto_rows": null,
      "grid_column": null,
      "grid_gap": null,
      "grid_row": null,
      "grid_template_areas": null,
      "grid_template_columns": null,
      "grid_template_rows": null,
      "height": null,
      "justify_content": null,
      "justify_items": null,
      "left": null,
      "margin": null,
      "max_height": null,
      "max_width": null,
      "min_height": null,
      "min_width": null,
      "object_fit": null,
      "object_position": null,
      "order": null,
      "overflow": null,
      "overflow_x": null,
      "overflow_y": null,
      "padding": null,
      "right": null,
      "top": null,
      "visibility": null,
      "width": null
     }
    },
    "b9611ba70ec848169f4d10de2684ff22": {
     "model_module": "@jupyter-widgets/base",
     "model_module_version": "1.2.0",
     "model_name": "LayoutModel",
     "state": {
      "_model_module": "@jupyter-widgets/base",
      "_model_module_version": "1.2.0",
      "_model_name": "LayoutModel",
      "_view_count": null,
      "_view_module": "@jupyter-widgets/base",
      "_view_module_version": "1.2.0",
      "_view_name": "LayoutView",
      "align_content": null,
      "align_items": null,
      "align_self": null,
      "border": null,
      "bottom": null,
      "display": null,
      "flex": null,
      "flex_flow": null,
      "grid_area": null,
      "grid_auto_columns": null,
      "grid_auto_flow": null,
      "grid_auto_rows": null,
      "grid_column": null,
      "grid_gap": null,
      "grid_row": null,
      "grid_template_areas": null,
      "grid_template_columns": null,
      "grid_template_rows": null,
      "height": null,
      "justify_content": null,
      "justify_items": null,
      "left": null,
      "margin": null,
      "max_height": null,
      "max_width": null,
      "min_height": null,
      "min_width": null,
      "object_fit": null,
      "object_position": null,
      "order": null,
      "overflow": null,
      "overflow_x": null,
      "overflow_y": null,
      "padding": null,
      "right": null,
      "top": null,
      "visibility": null,
      "width": null
     }
    },
    "b9a78636ba62451499fa97c9a3641837": {
     "model_module": "@jupyter-widgets/base",
     "model_module_version": "1.2.0",
     "model_name": "LayoutModel",
     "state": {
      "_model_module": "@jupyter-widgets/base",
      "_model_module_version": "1.2.0",
      "_model_name": "LayoutModel",
      "_view_count": null,
      "_view_module": "@jupyter-widgets/base",
      "_view_module_version": "1.2.0",
      "_view_name": "LayoutView",
      "align_content": null,
      "align_items": null,
      "align_self": null,
      "border": null,
      "bottom": null,
      "display": null,
      "flex": null,
      "flex_flow": null,
      "grid_area": null,
      "grid_auto_columns": null,
      "grid_auto_flow": null,
      "grid_auto_rows": null,
      "grid_column": null,
      "grid_gap": null,
      "grid_row": null,
      "grid_template_areas": null,
      "grid_template_columns": null,
      "grid_template_rows": null,
      "height": null,
      "justify_content": null,
      "justify_items": null,
      "left": null,
      "margin": null,
      "max_height": null,
      "max_width": null,
      "min_height": null,
      "min_width": null,
      "object_fit": null,
      "object_position": null,
      "order": null,
      "overflow": null,
      "overflow_x": null,
      "overflow_y": null,
      "padding": null,
      "right": null,
      "top": null,
      "visibility": null,
      "width": null
     }
    },
    "bbeed7470b5a4414b183e12f3c4ad12e": {
     "model_module": "@jupyter-widgets/base",
     "model_module_version": "1.2.0",
     "model_name": "LayoutModel",
     "state": {
      "_model_module": "@jupyter-widgets/base",
      "_model_module_version": "1.2.0",
      "_model_name": "LayoutModel",
      "_view_count": null,
      "_view_module": "@jupyter-widgets/base",
      "_view_module_version": "1.2.0",
      "_view_name": "LayoutView",
      "align_content": null,
      "align_items": null,
      "align_self": null,
      "border": null,
      "bottom": null,
      "display": null,
      "flex": null,
      "flex_flow": null,
      "grid_area": null,
      "grid_auto_columns": null,
      "grid_auto_flow": null,
      "grid_auto_rows": null,
      "grid_column": null,
      "grid_gap": null,
      "grid_row": null,
      "grid_template_areas": null,
      "grid_template_columns": null,
      "grid_template_rows": null,
      "height": null,
      "justify_content": null,
      "justify_items": null,
      "left": null,
      "margin": null,
      "max_height": null,
      "max_width": null,
      "min_height": null,
      "min_width": null,
      "object_fit": null,
      "object_position": null,
      "order": null,
      "overflow": null,
      "overflow_x": null,
      "overflow_y": null,
      "padding": null,
      "right": null,
      "top": null,
      "visibility": null,
      "width": null
     }
    },
    "bc5ec7d2c9fa4b33b8e5c56114f147b2": {
     "model_module": "@jupyter-widgets/controls",
     "model_module_version": "1.5.0",
     "model_name": "HTMLModel",
     "state": {
      "_dom_classes": [],
      "_model_module": "@jupyter-widgets/controls",
      "_model_module_version": "1.5.0",
      "_model_name": "HTMLModel",
      "_view_count": null,
      "_view_module": "@jupyter-widgets/controls",
      "_view_module_version": "1.5.0",
      "_view_name": "HTMLView",
      "description": "",
      "description_tooltip": null,
      "layout": "IPY_MODEL_f8acee130e5a4fd89d433f2b55ff39a9",
      "placeholder": "​",
      "style": "IPY_MODEL_3446bde3d2fe4eef938d02277ad5f3f0",
      "value": " 498M/498M [00:15&lt;00:00, 33.3MB/s]"
     }
    },
    "bd3b50b6ceb0470ea69abbf50a76f2b8": {
     "model_module": "@jupyter-widgets/controls",
     "model_module_version": "1.5.0",
     "model_name": "DescriptionStyleModel",
     "state": {
      "_model_module": "@jupyter-widgets/controls",
      "_model_module_version": "1.5.0",
      "_model_name": "DescriptionStyleModel",
      "_view_count": null,
      "_view_module": "@jupyter-widgets/base",
      "_view_module_version": "1.2.0",
      "_view_name": "StyleView",
      "description_width": ""
     }
    },
    "c4437411051e4d9fae68a11fc3e09c9f": {
     "model_module": "@jupyter-widgets/controls",
     "model_module_version": "1.5.0",
     "model_name": "FloatProgressModel",
     "state": {
      "_dom_classes": [],
      "_model_module": "@jupyter-widgets/controls",
      "_model_module_version": "1.5.0",
      "_model_name": "FloatProgressModel",
      "_view_count": null,
      "_view_module": "@jupyter-widgets/controls",
      "_view_module_version": "1.5.0",
      "_view_name": "ProgressView",
      "bar_style": "success",
      "description": "",
      "description_tooltip": null,
      "layout": "IPY_MODEL_96ef9d4cb43342faa9274bbec4507168",
      "max": 935,
      "min": 0,
      "orientation": "horizontal",
      "style": "IPY_MODEL_850107cdc97e4f7da9a0c298778ce0b9",
      "value": 935
     }
    },
    "c4ff20ab0c5e4e0a86f0ef786c92b4fd": {
     "model_module": "@jupyter-widgets/controls",
     "model_module_version": "1.5.0",
     "model_name": "HTMLModel",
     "state": {
      "_dom_classes": [],
      "_model_module": "@jupyter-widgets/controls",
      "_model_module_version": "1.5.0",
      "_model_name": "HTMLModel",
      "_view_count": null,
      "_view_module": "@jupyter-widgets/controls",
      "_view_module_version": "1.5.0",
      "_view_name": "HTMLView",
      "description": "",
      "description_tooltip": null,
      "layout": "IPY_MODEL_2228baed34d941e7a35d9ebf32a66636",
      "placeholder": "​",
      "style": "IPY_MODEL_1fe9bd930e2c4e88ba86551cc49ff2a5",
      "value": "tokenizer_config.json: 100%"
     }
    },
    "c811cbc9281247f58a223ba042c4997d": {
     "model_module": "@jupyter-widgets/controls",
     "model_module_version": "1.5.0",
     "model_name": "HTMLModel",
     "state": {
      "_dom_classes": [],
      "_model_module": "@jupyter-widgets/controls",
      "_model_module_version": "1.5.0",
      "_model_name": "HTMLModel",
      "_view_count": null,
      "_view_module": "@jupyter-widgets/controls",
      "_view_module_version": "1.5.0",
      "_view_name": "HTMLView",
      "description": "",
      "description_tooltip": null,
      "layout": "IPY_MODEL_531ffee5d0e1466082994d73b4ac1fe8",
      "placeholder": "​",
      "style": "IPY_MODEL_0bce90abc61a43b4a3039a54b678620c",
      "value": "README.md: 100%"
     }
    },
    "c86c91c30c9946f6a6a843cba2f4b584": {
     "model_module": "@jupyter-widgets/base",
     "model_module_version": "1.2.0",
     "model_name": "LayoutModel",
     "state": {
      "_model_module": "@jupyter-widgets/base",
      "_model_module_version": "1.2.0",
      "_model_name": "LayoutModel",
      "_view_count": null,
      "_view_module": "@jupyter-widgets/base",
      "_view_module_version": "1.2.0",
      "_view_name": "LayoutView",
      "align_content": null,
      "align_items": null,
      "align_self": null,
      "border": null,
      "bottom": null,
      "display": null,
      "flex": null,
      "flex_flow": null,
      "grid_area": null,
      "grid_auto_columns": null,
      "grid_auto_flow": null,
      "grid_auto_rows": null,
      "grid_column": null,
      "grid_gap": null,
      "grid_row": null,
      "grid_template_areas": null,
      "grid_template_columns": null,
      "grid_template_rows": null,
      "height": null,
      "justify_content": null,
      "justify_items": null,
      "left": null,
      "margin": null,
      "max_height": null,
      "max_width": null,
      "min_height": null,
      "min_width": null,
      "object_fit": null,
      "object_position": null,
      "order": null,
      "overflow": null,
      "overflow_x": null,
      "overflow_y": null,
      "padding": null,
      "right": null,
      "top": null,
      "visibility": null,
      "width": null
     }
    },
    "c948741277394e47b2ab17a98a8196ce": {
     "model_module": "@jupyter-widgets/base",
     "model_module_version": "1.2.0",
     "model_name": "LayoutModel",
     "state": {
      "_model_module": "@jupyter-widgets/base",
      "_model_module_version": "1.2.0",
      "_model_name": "LayoutModel",
      "_view_count": null,
      "_view_module": "@jupyter-widgets/base",
      "_view_module_version": "1.2.0",
      "_view_name": "LayoutView",
      "align_content": null,
      "align_items": null,
      "align_self": null,
      "border": null,
      "bottom": null,
      "display": null,
      "flex": null,
      "flex_flow": null,
      "grid_area": null,
      "grid_auto_columns": null,
      "grid_auto_flow": null,
      "grid_auto_rows": null,
      "grid_column": null,
      "grid_gap": null,
      "grid_row": null,
      "grid_template_areas": null,
      "grid_template_columns": null,
      "grid_template_rows": null,
      "height": null,
      "justify_content": null,
      "justify_items": null,
      "left": null,
      "margin": null,
      "max_height": null,
      "max_width": null,
      "min_height": null,
      "min_width": null,
      "object_fit": null,
      "object_position": null,
      "order": null,
      "overflow": null,
      "overflow_x": null,
      "overflow_y": null,
      "padding": null,
      "right": null,
      "top": null,
      "visibility": null,
      "width": null
     }
    },
    "ce0cd934539f437b935cc7bbff34c1eb": {
     "model_module": "@jupyter-widgets/controls",
     "model_module_version": "1.5.0",
     "model_name": "FloatProgressModel",
     "state": {
      "_dom_classes": [],
      "_model_module": "@jupyter-widgets/controls",
      "_model_module_version": "1.5.0",
      "_model_name": "FloatProgressModel",
      "_view_count": null,
      "_view_module": "@jupyter-widgets/controls",
      "_view_module_version": "1.5.0",
      "_view_name": "ProgressView",
      "bar_style": "success",
      "description": "",
      "description_tooltip": null,
      "layout": "IPY_MODEL_b9a78636ba62451499fa97c9a3641837",
      "max": 583,
      "min": 0,
      "orientation": "horizontal",
      "style": "IPY_MODEL_d564d8015abe4cd8bb895db0d9dc9c4d",
      "value": 583
     }
    },
    "d00b4d4df044492b846d1e8fe85cc0e0": {
     "model_module": "@jupyter-widgets/controls",
     "model_module_version": "1.5.0",
     "model_name": "HBoxModel",
     "state": {
      "_dom_classes": [],
      "_model_module": "@jupyter-widgets/controls",
      "_model_module_version": "1.5.0",
      "_model_name": "HBoxModel",
      "_view_count": null,
      "_view_module": "@jupyter-widgets/controls",
      "_view_module_version": "1.5.0",
      "_view_name": "HBoxView",
      "box_style": "",
      "children": [
       "IPY_MODEL_9aaedee8e6734e43b4646e7a35ec4aee",
       "IPY_MODEL_ce0cd934539f437b935cc7bbff34c1eb",
       "IPY_MODEL_21947c165ae44fdcbe0d4836a4a1ad5f"
      ],
      "layout": "IPY_MODEL_707e6b27838946ea83123618efec0259"
     }
    },
    "d1e805f57015484280efdb4f6af1c050": {
     "model_module": "@jupyter-widgets/base",
     "model_module_version": "1.2.0",
     "model_name": "LayoutModel",
     "state": {
      "_model_module": "@jupyter-widgets/base",
      "_model_module_version": "1.2.0",
      "_model_name": "LayoutModel",
      "_view_count": null,
      "_view_module": "@jupyter-widgets/base",
      "_view_module_version": "1.2.0",
      "_view_name": "LayoutView",
      "align_content": null,
      "align_items": null,
      "align_self": null,
      "border": null,
      "bottom": null,
      "display": null,
      "flex": null,
      "flex_flow": null,
      "grid_area": null,
      "grid_auto_columns": null,
      "grid_auto_flow": null,
      "grid_auto_rows": null,
      "grid_column": null,
      "grid_gap": null,
      "grid_row": null,
      "grid_template_areas": null,
      "grid_template_columns": null,
      "grid_template_rows": null,
      "height": null,
      "justify_content": null,
      "justify_items": null,
      "left": null,
      "margin": null,
      "max_height": null,
      "max_width": null,
      "min_height": null,
      "min_width": null,
      "object_fit": null,
      "object_position": null,
      "order": null,
      "overflow": null,
      "overflow_x": null,
      "overflow_y": null,
      "padding": null,
      "right": null,
      "top": null,
      "visibility": null,
      "width": null
     }
    },
    "d4386db3ce8f4b1c9b89679636df799a": {
     "model_module": "@jupyter-widgets/base",
     "model_module_version": "1.2.0",
     "model_name": "LayoutModel",
     "state": {
      "_model_module": "@jupyter-widgets/base",
      "_model_module_version": "1.2.0",
      "_model_name": "LayoutModel",
      "_view_count": null,
      "_view_module": "@jupyter-widgets/base",
      "_view_module_version": "1.2.0",
      "_view_name": "LayoutView",
      "align_content": null,
      "align_items": null,
      "align_self": null,
      "border": null,
      "bottom": null,
      "display": null,
      "flex": null,
      "flex_flow": null,
      "grid_area": null,
      "grid_auto_columns": null,
      "grid_auto_flow": null,
      "grid_auto_rows": null,
      "grid_column": null,
      "grid_gap": null,
      "grid_row": null,
      "grid_template_areas": null,
      "grid_template_columns": null,
      "grid_template_rows": null,
      "height": null,
      "justify_content": null,
      "justify_items": null,
      "left": null,
      "margin": null,
      "max_height": null,
      "max_width": null,
      "min_height": null,
      "min_width": null,
      "object_fit": null,
      "object_position": null,
      "order": null,
      "overflow": null,
      "overflow_x": null,
      "overflow_y": null,
      "padding": null,
      "right": null,
      "top": null,
      "visibility": null,
      "width": null
     }
    },
    "d564d8015abe4cd8bb895db0d9dc9c4d": {
     "model_module": "@jupyter-widgets/controls",
     "model_module_version": "1.5.0",
     "model_name": "ProgressStyleModel",
     "state": {
      "_model_module": "@jupyter-widgets/controls",
      "_model_module_version": "1.5.0",
      "_model_name": "ProgressStyleModel",
      "_view_count": null,
      "_view_module": "@jupyter-widgets/base",
      "_view_module_version": "1.2.0",
      "_view_name": "StyleView",
      "bar_color": null,
      "description_width": ""
     }
    },
    "d7fb9a095b294eca8d84fb87a0d75f8d": {
     "model_module": "@jupyter-widgets/controls",
     "model_module_version": "1.5.0",
     "model_name": "DescriptionStyleModel",
     "state": {
      "_model_module": "@jupyter-widgets/controls",
      "_model_module_version": "1.5.0",
      "_model_name": "DescriptionStyleModel",
      "_view_count": null,
      "_view_module": "@jupyter-widgets/base",
      "_view_module_version": "1.2.0",
      "_view_name": "StyleView",
      "description_width": ""
     }
    },
    "d87919d86d5c4f0cad45010ae3543cd7": {
     "model_module": "@jupyter-widgets/controls",
     "model_module_version": "1.5.0",
     "model_name": "HTMLModel",
     "state": {
      "_dom_classes": [],
      "_model_module": "@jupyter-widgets/controls",
      "_model_module_version": "1.5.0",
      "_model_name": "HTMLModel",
      "_view_count": null,
      "_view_module": "@jupyter-widgets/controls",
      "_view_module_version": "1.5.0",
      "_view_name": "HTMLView",
      "description": "",
      "description_tooltip": null,
      "layout": "IPY_MODEL_1727e13dcd3d4abcb7ee1b41c2bb150f",
      "placeholder": "​",
      "style": "IPY_MODEL_1172d73f44044e8ba28861194950f753",
      "value": "generation_config.json: 100%"
     }
    },
    "d9417ff8dc3f4153839ff1d3038c58fa": {
     "model_module": "@jupyter-widgets/controls",
     "model_module_version": "1.5.0",
     "model_name": "HBoxModel",
     "state": {
      "_dom_classes": [],
      "_model_module": "@jupyter-widgets/controls",
      "_model_module_version": "1.5.0",
      "_model_name": "HBoxModel",
      "_view_count": null,
      "_view_module": "@jupyter-widgets/controls",
      "_view_module_version": "1.5.0",
      "_view_name": "HBoxView",
      "box_style": "",
      "children": [
       "IPY_MODEL_c811cbc9281247f58a223ba042c4997d",
       "IPY_MODEL_e5a0285795b8498095745c41f1e22055",
       "IPY_MODEL_f0584b8748064a4bb8c6a27336f5f9bd"
      ],
      "layout": "IPY_MODEL_c948741277394e47b2ab17a98a8196ce"
     }
    },
    "d9f0542fb2044ae68d5217a6e289bc5b": {
     "model_module": "@jupyter-widgets/controls",
     "model_module_version": "1.5.0",
     "model_name": "HTMLModel",
     "state": {
      "_dom_classes": [],
      "_model_module": "@jupyter-widgets/controls",
      "_model_module_version": "1.5.0",
      "_model_name": "HTMLModel",
      "_view_count": null,
      "_view_module": "@jupyter-widgets/controls",
      "_view_module_version": "1.5.0",
      "_view_name": "HTMLView",
      "description": "",
      "description_tooltip": null,
      "layout": "IPY_MODEL_912887ca5e9e492ca392f26f0e96ec9a",
      "placeholder": "​",
      "style": "IPY_MODEL_6c97ae1380e44d0ba17d371556a89cc7",
      "value": "model.safetensors: 100%"
     }
    },
    "dda8430d17e44e97a95a012b9dac4f16": {
     "model_module": "@jupyter-widgets/base",
     "model_module_version": "1.2.0",
     "model_name": "LayoutModel",
     "state": {
      "_model_module": "@jupyter-widgets/base",
      "_model_module_version": "1.2.0",
      "_model_name": "LayoutModel",
      "_view_count": null,
      "_view_module": "@jupyter-widgets/base",
      "_view_module_version": "1.2.0",
      "_view_name": "LayoutView",
      "align_content": null,
      "align_items": null,
      "align_self": null,
      "border": null,
      "bottom": null,
      "display": null,
      "flex": null,
      "flex_flow": null,
      "grid_area": null,
      "grid_auto_columns": null,
      "grid_auto_flow": null,
      "grid_auto_rows": null,
      "grid_column": null,
      "grid_gap": null,
      "grid_row": null,
      "grid_template_areas": null,
      "grid_template_columns": null,
      "grid_template_rows": null,
      "height": null,
      "justify_content": null,
      "justify_items": null,
      "left": null,
      "margin": null,
      "max_height": null,
      "max_width": null,
      "min_height": null,
      "min_width": null,
      "object_fit": null,
      "object_position": null,
      "order": null,
      "overflow": null,
      "overflow_x": null,
      "overflow_y": null,
      "padding": null,
      "right": null,
      "top": null,
      "visibility": null,
      "width": null
     }
    },
    "dfeed52c74f84bcca23d86d1522e43ba": {
     "model_module": "@jupyter-widgets/controls",
     "model_module_version": "1.5.0",
     "model_name": "HTMLModel",
     "state": {
      "_dom_classes": [],
      "_model_module": "@jupyter-widgets/controls",
      "_model_module_version": "1.5.0",
      "_model_name": "HTMLModel",
      "_view_count": null,
      "_view_module": "@jupyter-widgets/controls",
      "_view_module_version": "1.5.0",
      "_view_name": "HTMLView",
      "description": "",
      "description_tooltip": null,
      "layout": "IPY_MODEL_fdd0b9a913a446ee9bb966da52a63387",
      "placeholder": "​",
      "style": "IPY_MODEL_bd3b50b6ceb0470ea69abbf50a76f2b8",
      "value": " 119/119 [00:00&lt;00:00, 1.76kB/s]"
     }
    },
    "e02610f4d3ce4b87ac1fcd5b1569277a": {
     "model_module": "@jupyter-widgets/controls",
     "model_module_version": "1.5.0",
     "model_name": "HBoxModel",
     "state": {
      "_dom_classes": [],
      "_model_module": "@jupyter-widgets/controls",
      "_model_module_version": "1.5.0",
      "_model_name": "HBoxModel",
      "_view_count": null,
      "_view_module": "@jupyter-widgets/controls",
      "_view_module_version": "1.5.0",
      "_view_name": "HBoxView",
      "box_style": "",
      "children": [
       "IPY_MODEL_d87919d86d5c4f0cad45010ae3543cd7",
       "IPY_MODEL_516e316ae8e94da88a3d96ff6519b5a9",
       "IPY_MODEL_dfeed52c74f84bcca23d86d1522e43ba"
      ],
      "layout": "IPY_MODEL_37850c50da414143bfa294dbc3446f55"
     }
    },
    "e4fa0d49ef594cfaaf95b3e2f7ebdf36": {
     "model_module": "@jupyter-widgets/controls",
     "model_module_version": "1.5.0",
     "model_name": "DescriptionStyleModel",
     "state": {
      "_model_module": "@jupyter-widgets/controls",
      "_model_module_version": "1.5.0",
      "_model_name": "DescriptionStyleModel",
      "_view_count": null,
      "_view_module": "@jupyter-widgets/base",
      "_view_module_version": "1.2.0",
      "_view_name": "StyleView",
      "description_width": ""
     }
    },
    "e5a0285795b8498095745c41f1e22055": {
     "model_module": "@jupyter-widgets/controls",
     "model_module_version": "1.5.0",
     "model_name": "FloatProgressModel",
     "state": {
      "_dom_classes": [],
      "_model_module": "@jupyter-widgets/controls",
      "_model_module_version": "1.5.0",
      "_model_name": "FloatProgressModel",
      "_view_count": null,
      "_view_module": "@jupyter-widgets/controls",
      "_view_module_version": "1.5.0",
      "_view_name": "ProgressView",
      "bar_style": "success",
      "description": "",
      "description_tooltip": null,
      "layout": "IPY_MODEL_4786983ecde54f5c9d497c84da3b6181",
      "max": 5174,
      "min": 0,
      "orientation": "horizontal",
      "style": "IPY_MODEL_6e0a31e9ee184bd68806e3bf1939acd9",
      "value": 5174
     }
    },
    "e97f09ccf7514cac88a1969dad482aae": {
     "model_module": "@jupyter-widgets/base",
     "model_module_version": "1.2.0",
     "model_name": "LayoutModel",
     "state": {
      "_model_module": "@jupyter-widgets/base",
      "_model_module_version": "1.2.0",
      "_model_name": "LayoutModel",
      "_view_count": null,
      "_view_module": "@jupyter-widgets/base",
      "_view_module_version": "1.2.0",
      "_view_name": "LayoutView",
      "align_content": null,
      "align_items": null,
      "align_self": null,
      "border": null,
      "bottom": null,
      "display": null,
      "flex": null,
      "flex_flow": null,
      "grid_area": null,
      "grid_auto_columns": null,
      "grid_auto_flow": null,
      "grid_auto_rows": null,
      "grid_column": null,
      "grid_gap": null,
      "grid_row": null,
      "grid_template_areas": null,
      "grid_template_columns": null,
      "grid_template_rows": null,
      "height": null,
      "justify_content": null,
      "justify_items": null,
      "left": null,
      "margin": null,
      "max_height": null,
      "max_width": null,
      "min_height": null,
      "min_width": null,
      "object_fit": null,
      "object_position": null,
      "order": null,
      "overflow": null,
      "overflow_x": null,
      "overflow_y": null,
      "padding": null,
      "right": null,
      "top": null,
      "visibility": null,
      "width": null
     }
    },
    "e9846aa6792c473daa77293b289e5ec7": {
     "model_module": "@jupyter-widgets/controls",
     "model_module_version": "1.5.0",
     "model_name": "ProgressStyleModel",
     "state": {
      "_model_module": "@jupyter-widgets/controls",
      "_model_module_version": "1.5.0",
      "_model_name": "ProgressStyleModel",
      "_view_count": null,
      "_view_module": "@jupyter-widgets/base",
      "_view_module_version": "1.2.0",
      "_view_name": "StyleView",
      "bar_color": null,
      "description_width": ""
     }
    },
    "f0584b8748064a4bb8c6a27336f5f9bd": {
     "model_module": "@jupyter-widgets/controls",
     "model_module_version": "1.5.0",
     "model_name": "HTMLModel",
     "state": {
      "_dom_classes": [],
      "_model_module": "@jupyter-widgets/controls",
      "_model_module_version": "1.5.0",
      "_model_name": "HTMLModel",
      "_view_count": null,
      "_view_module": "@jupyter-widgets/controls",
      "_view_module_version": "1.5.0",
      "_view_name": "HTMLView",
      "description": "",
      "description_tooltip": null,
      "layout": "IPY_MODEL_fd258cade3de4aeb82fc06901ae87349",
      "placeholder": "​",
      "style": "IPY_MODEL_557f58a09c60423c94f69909dac4d43d",
      "value": " 5.17k/5.17k [00:00&lt;00:00, 97.5kB/s]"
     }
    },
    "f26b6def5f644f67a947977b626144bd": {
     "model_module": "@jupyter-widgets/base",
     "model_module_version": "1.2.0",
     "model_name": "LayoutModel",
     "state": {
      "_model_module": "@jupyter-widgets/base",
      "_model_module_version": "1.2.0",
      "_model_name": "LayoutModel",
      "_view_count": null,
      "_view_module": "@jupyter-widgets/base",
      "_view_module_version": "1.2.0",
      "_view_name": "LayoutView",
      "align_content": null,
      "align_items": null,
      "align_self": null,
      "border": null,
      "bottom": null,
      "display": null,
      "flex": null,
      "flex_flow": null,
      "grid_area": null,
      "grid_auto_columns": null,
      "grid_auto_flow": null,
      "grid_auto_rows": null,
      "grid_column": null,
      "grid_gap": null,
      "grid_row": null,
      "grid_template_areas": null,
      "grid_template_columns": null,
      "grid_template_rows": null,
      "height": null,
      "justify_content": null,
      "justify_items": null,
      "left": null,
      "margin": null,
      "max_height": null,
      "max_width": null,
      "min_height": null,
      "min_width": null,
      "object_fit": null,
      "object_position": null,
      "order": null,
      "overflow": null,
      "overflow_x": null,
      "overflow_y": null,
      "padding": null,
      "right": null,
      "top": null,
      "visibility": null,
      "width": null
     }
    },
    "f2d8d067732d4fdda98a56a9255137a2": {
     "model_module": "@jupyter-widgets/controls",
     "model_module_version": "1.5.0",
     "model_name": "ProgressStyleModel",
     "state": {
      "_model_module": "@jupyter-widgets/controls",
      "_model_module_version": "1.5.0",
      "_model_name": "ProgressStyleModel",
      "_view_count": null,
      "_view_module": "@jupyter-widgets/base",
      "_view_module_version": "1.2.0",
      "_view_name": "StyleView",
      "bar_color": null,
      "description_width": ""
     }
    },
    "f3509c617f8240c98d5f44d2be44404a": {
     "model_module": "@jupyter-widgets/base",
     "model_module_version": "1.2.0",
     "model_name": "LayoutModel",
     "state": {
      "_model_module": "@jupyter-widgets/base",
      "_model_module_version": "1.2.0",
      "_model_name": "LayoutModel",
      "_view_count": null,
      "_view_module": "@jupyter-widgets/base",
      "_view_module_version": "1.2.0",
      "_view_name": "LayoutView",
      "align_content": null,
      "align_items": null,
      "align_self": null,
      "border": null,
      "bottom": null,
      "display": null,
      "flex": null,
      "flex_flow": null,
      "grid_area": null,
      "grid_auto_columns": null,
      "grid_auto_flow": null,
      "grid_auto_rows": null,
      "grid_column": null,
      "grid_gap": null,
      "grid_row": null,
      "grid_template_areas": null,
      "grid_template_columns": null,
      "grid_template_rows": null,
      "height": null,
      "justify_content": null,
      "justify_items": null,
      "left": null,
      "margin": null,
      "max_height": null,
      "max_width": null,
      "min_height": null,
      "min_width": null,
      "object_fit": null,
      "object_position": null,
      "order": null,
      "overflow": null,
      "overflow_x": null,
      "overflow_y": null,
      "padding": null,
      "right": null,
      "top": null,
      "visibility": null,
      "width": null
     }
    },
    "f8acee130e5a4fd89d433f2b55ff39a9": {
     "model_module": "@jupyter-widgets/base",
     "model_module_version": "1.2.0",
     "model_name": "LayoutModel",
     "state": {
      "_model_module": "@jupyter-widgets/base",
      "_model_module_version": "1.2.0",
      "_model_name": "LayoutModel",
      "_view_count": null,
      "_view_module": "@jupyter-widgets/base",
      "_view_module_version": "1.2.0",
      "_view_name": "LayoutView",
      "align_content": null,
      "align_items": null,
      "align_self": null,
      "border": null,
      "bottom": null,
      "display": null,
      "flex": null,
      "flex_flow": null,
      "grid_area": null,
      "grid_auto_columns": null,
      "grid_auto_flow": null,
      "grid_auto_rows": null,
      "grid_column": null,
      "grid_gap": null,
      "grid_row": null,
      "grid_template_areas": null,
      "grid_template_columns": null,
      "grid_template_rows": null,
      "height": null,
      "justify_content": null,
      "justify_items": null,
      "left": null,
      "margin": null,
      "max_height": null,
      "max_width": null,
      "min_height": null,
      "min_width": null,
      "object_fit": null,
      "object_position": null,
      "order": null,
      "overflow": null,
      "overflow_x": null,
      "overflow_y": null,
      "padding": null,
      "right": null,
      "top": null,
      "visibility": null,
      "width": null
     }
    },
    "f95603a90f714f1a87fe69bf8f161add": {
     "model_module": "@jupyter-widgets/base",
     "model_module_version": "1.2.0",
     "model_name": "LayoutModel",
     "state": {
      "_model_module": "@jupyter-widgets/base",
      "_model_module_version": "1.2.0",
      "_model_name": "LayoutModel",
      "_view_count": null,
      "_view_module": "@jupyter-widgets/base",
      "_view_module_version": "1.2.0",
      "_view_name": "LayoutView",
      "align_content": null,
      "align_items": null,
      "align_self": null,
      "border": null,
      "bottom": null,
      "display": null,
      "flex": null,
      "flex_flow": null,
      "grid_area": null,
      "grid_auto_columns": null,
      "grid_auto_flow": null,
      "grid_auto_rows": null,
      "grid_column": null,
      "grid_gap": null,
      "grid_row": null,
      "grid_template_areas": null,
      "grid_template_columns": null,
      "grid_template_rows": null,
      "height": null,
      "justify_content": null,
      "justify_items": null,
      "left": null,
      "margin": null,
      "max_height": null,
      "max_width": null,
      "min_height": null,
      "min_width": null,
      "object_fit": null,
      "object_position": null,
      "order": null,
      "overflow": null,
      "overflow_x": null,
      "overflow_y": null,
      "padding": null,
      "right": null,
      "top": null,
      "visibility": null,
      "width": null
     }
    },
    "fbbbb3d70c9541278e4c21c47a2e0a4c": {
     "model_module": "@jupyter-widgets/controls",
     "model_module_version": "1.5.0",
     "model_name": "HBoxModel",
     "state": {
      "_dom_classes": [],
      "_model_module": "@jupyter-widgets/controls",
      "_model_module_version": "1.5.0",
      "_model_name": "HBoxModel",
      "_view_count": null,
      "_view_module": "@jupyter-widgets/controls",
      "_view_module_version": "1.5.0",
      "_view_name": "HBoxView",
      "box_style": "",
      "children": [
       "IPY_MODEL_892f30f60aa242c5ad8cc2bc5579e77d",
       "IPY_MODEL_690f518dbd71491d9732ca646ecbed44",
       "IPY_MODEL_6988a5909d5147ffa9ef163567c6123e"
      ],
      "layout": "IPY_MODEL_175969d6ab8e4e289df7ad2817c856ab"
     }
    },
    "fd258cade3de4aeb82fc06901ae87349": {
     "model_module": "@jupyter-widgets/base",
     "model_module_version": "1.2.0",
     "model_name": "LayoutModel",
     "state": {
      "_model_module": "@jupyter-widgets/base",
      "_model_module_version": "1.2.0",
      "_model_name": "LayoutModel",
      "_view_count": null,
      "_view_module": "@jupyter-widgets/base",
      "_view_module_version": "1.2.0",
      "_view_name": "LayoutView",
      "align_content": null,
      "align_items": null,
      "align_self": null,
      "border": null,
      "bottom": null,
      "display": null,
      "flex": null,
      "flex_flow": null,
      "grid_area": null,
      "grid_auto_columns": null,
      "grid_auto_flow": null,
      "grid_auto_rows": null,
      "grid_column": null,
      "grid_gap": null,
      "grid_row": null,
      "grid_template_areas": null,
      "grid_template_columns": null,
      "grid_template_rows": null,
      "height": null,
      "justify_content": null,
      "justify_items": null,
      "left": null,
      "margin": null,
      "max_height": null,
      "max_width": null,
      "min_height": null,
      "min_width": null,
      "object_fit": null,
      "object_position": null,
      "order": null,
      "overflow": null,
      "overflow_x": null,
      "overflow_y": null,
      "padding": null,
      "right": null,
      "top": null,
      "visibility": null,
      "width": null
     }
    },
    "fdd0b9a913a446ee9bb966da52a63387": {
     "model_module": "@jupyter-widgets/base",
     "model_module_version": "1.2.0",
     "model_name": "LayoutModel",
     "state": {
      "_model_module": "@jupyter-widgets/base",
      "_model_module_version": "1.2.0",
      "_model_name": "LayoutModel",
      "_view_count": null,
      "_view_module": "@jupyter-widgets/base",
      "_view_module_version": "1.2.0",
      "_view_name": "LayoutView",
      "align_content": null,
      "align_items": null,
      "align_self": null,
      "border": null,
      "bottom": null,
      "display": null,
      "flex": null,
      "flex_flow": null,
      "grid_area": null,
      "grid_auto_columns": null,
      "grid_auto_flow": null,
      "grid_auto_rows": null,
      "grid_column": null,
      "grid_gap": null,
      "grid_row": null,
      "grid_template_areas": null,
      "grid_template_columns": null,
      "grid_template_rows": null,
      "height": null,
      "justify_content": null,
      "justify_items": null,
      "left": null,
      "margin": null,
      "max_height": null,
      "max_width": null,
      "min_height": null,
      "min_width": null,
      "object_fit": null,
      "object_position": null,
      "order": null,
      "overflow": null,
      "overflow_x": null,
      "overflow_y": null,
      "padding": null,
      "right": null,
      "top": null,
      "visibility": null,
      "width": null
     }
    }
   }
  }
 },
 "nbformat": 4,
 "nbformat_minor": 0
}
